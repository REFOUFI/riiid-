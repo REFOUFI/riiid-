{
 "cells": [
  {
   "cell_type": "markdown",
   "metadata": {},
   "source": [
    "# Import And Load Data"
   ]
  },
  {
   "cell_type": "code",
   "execution_count": 1,
   "metadata": {},
   "outputs": [],
   "source": [
    "import numpy as np\n",
    "import pandas as pd\n",
    "from tqdm.notebook import tqdm\n",
    "import gc\n",
    "%matplotlib inline\n",
    "\n",
    "import matplotlib\n",
    "import matplotlib.pyplot as plt"
   ]
  },
  {
   "cell_type": "code",
   "execution_count": 2,
   "metadata": {},
   "outputs": [],
   "source": [
    "folder_path = 'data/'\n",
    "train_csv = folder_path + 'train.csv'\n",
    "test_csv =  folder_path + 'example_test.csv'\n",
    "lec_csv  =  folder_path + 'lectures.csv'\n",
    "que_csv =   folder_path + 'questions.csv'\n",
    "#sample_csv =    folder_path + 'example_sample_submission.csv'"
   ]
  },
  {
   "cell_type": "code",
   "execution_count": 3,
   "metadata": {},
   "outputs": [],
   "source": [
    "dtype = {'row_id':'int64',\n",
    "         'timestamp':'int64',\n",
    "        'user_id':'int32',\n",
    "        'content_id':'int16',\n",
    "        'content_type_id':'int8',\n",
    "        'task_container_id':'int16',\n",
    "        'user_answer':'int8',\n",
    "        'answered_correctly':'int8',\n",
    "        'prior_question_elapsed_time':'float32',\n",
    "        'prior_question_had_explanation':'boolean'}\n",
    "\n",
    "\n",
    "\n",
    "train_data = pd.read_csv(train_csv,dtype=dtype)"
   ]
  },
  {
   "cell_type": "code",
   "execution_count": 4,
   "metadata": {},
   "outputs": [],
   "source": [
    "qes_dtype={'question_id':'int16','bundle_id':'int16','correct_answer':'int8','part':'int8','tags':'string'}\n",
    "lec_dtype={'lecture_id':'int16','type_of':'string','part':'int8','tag':'string'}\n",
    "test_data = pd.read_csv(test_csv)\n",
    "lectures_df = pd.read_csv(lec_csv)\n",
    "que_data = pd.read_csv(que_csv,dtype=qes_dtype)\n",
    "#sample = pd.read_csv(sample_csv)"
   ]
  },
  {
   "cell_type": "markdown",
   "metadata": {},
   "source": [
    "# excluding outliers\n"
   ]
  },
  {
   "cell_type": "markdown",
   "metadata": {},
   "source": [
    "def convert_from_ms(milliseconds):\n",
    "    seconds, milliseconds = divmod(milliseconds, 1000)\n",
    "    minutes, seconds = divmod(seconds, 60)\n",
    "    hours, minutes = divmod(minutes, 60)\n",
    "    days, hours = divmod(hours, 24)\n",
    "    seconds = seconds + milliseconds / 1000\n",
    "    return days, hours, minutes, round(seconds)"
   ]
  },
  {
   "cell_type": "markdown",
   "metadata": {},
   "source": [
    "n_user = train_data.user_id.nunique()\n",
    "print(f'There are {n_user} users')"
   ]
  },
  {
   "cell_type": "markdown",
   "metadata": {},
   "source": [
    "%%time\n",
    "\n",
    "agg = {'row_id' : 'count',\n",
    "       'timestamp' : lambda x: convert_from_ms(x.max())[0],\n",
    "       'answered_correctly' : lambda x: round(x.mean() * 100)}\n",
    "\n",
    "user_info = train_data.groupby('user_id').agg(agg)\n",
    "user_info = user_info.rename(columns={'row_id' : 'nb_interactions',\n",
    "                                   'timestamp' : 'nb_jours',\n",
    "                                   'answered_correctly' : 'score'})\n",
    "user_info"
   ]
  },
  {
   "cell_type": "markdown",
   "metadata": {},
   "source": [
    "user_info.describe(percentiles=[.05, .25, .5, .75, 0.95])"
   ]
  },
  {
   "cell_type": "markdown",
   "metadata": {},
   "source": [
    "Q1 = 0.05\n",
    "Q4 = 0.95\n",
    "\n",
    "# Filtre des interaction exceptionnelles\n",
    "q1_int = user_info.nb_interactions.quantile(Q1)\n",
    "q4_int = user_info.nb_interactions.quantile(Q4)\n",
    "cond_int = (user_info.nb_interactions > q1_int) & (user_info.nb_interactions < q4_int)\n",
    "\n",
    "# Filtre des délais exceptionnels\n",
    "q1_delay = user_info.nb_jours.quantile(Q1)\n",
    "q4_delay = user_info.nb_jours.quantile(Q4)\n",
    "cond_delay = (user_info.nb_jours > q1_delay) & (user_info.nb_jours < q4_delay)\n",
    "\n",
    "reduced_user_info = user_info[cond_int & cond_delay]\n",
    "reduced_user_info"
   ]
  },
  {
   "cell_type": "markdown",
   "metadata": {},
   "source": [
    "reduced_n_user = len(reduced_user_info)\n",
    "\n",
    "reduced_user_rate = round((1 - reduced_n_user / n_user) * 100)\n",
    "print(f'Users have been reduced by {reduced_user_rate} %.')"
   ]
  },
  {
   "cell_type": "markdown",
   "metadata": {},
   "source": [
    "reduced_train = pd.merge(train_data, reduced_user_info, on='user_id')\n",
    "\n",
    "col = train_data.columns\n",
    "reduced_train = reduced_train[col]\n",
    "reduced_train"
   ]
  },
  {
   "cell_type": "markdown",
   "metadata": {},
   "source": [
    "# Add Lecture to Data (cumsum , part cumsum)"
   ]
  },
  {
   "cell_type": "code",
   "execution_count": 5,
   "metadata": {},
   "outputs": [],
   "source": [
    "train_data= train_data.sort_values(['row_id']).reset_index(drop = True)"
   ]
  },
  {
   "cell_type": "code",
   "execution_count": 6,
   "metadata": {},
   "outputs": [
    {
     "name": "stderr",
     "output_type": "stream",
     "text": [
      "<ipython-input-6-e467598b5327>:3: SettingWithCopyWarning: \n",
      "A value is trying to be set on a copy of a slice from a DataFrame.\n",
      "Try using .loc[row_indexer,col_indexer] = value instead\n",
      "\n",
      "See the caveats in the documentation: https://pandas.pydata.org/pandas-docs/stable/user_guide/indexing.html#returning-a-view-versus-a-copy\n",
      "  lecture_stage['content_type_id']=1\n",
      "<ipython-input-6-e467598b5327>:4: SettingWithCopyWarning: \n",
      "A value is trying to be set on a copy of a slice from a DataFrame.\n",
      "Try using .loc[row_indexer,col_indexer] = value instead\n",
      "\n",
      "See the caveats in the documentation: https://pandas.pydata.org/pandas-docs/stable/user_guide/indexing.html#returning-a-view-versus-a-copy\n",
      "  question_stage['content_type_id']=0\n"
     ]
    }
   ],
   "source": [
    "lecture_stage=lectures_df[['lecture_id','part']]\n",
    "question_stage=que_data[['question_id','part']]\n",
    "lecture_stage['content_type_id']=1\n",
    "question_stage['content_type_id']=0\n",
    "lecture_stage.columns=['content_id','part','content_type_id']\n",
    "question_stage.columns=['content_id','part','content_type_id']\n",
    "\n",
    "content_df=pd.concat([lecture_stage,question_stage])"
   ]
  },
  {
   "cell_type": "code",
   "execution_count": 7,
   "metadata": {},
   "outputs": [],
   "source": [
    "train_data=train_data.merge(content_df,on=['content_id','content_type_id'],how='left')\n",
    "\n",
    "train_data['lecture_seen']=train_data.groupby('user_id')['content_type_id'].agg('cumsum')\n",
    "train_data['lecture_part_seen']=train_data.groupby(['user_id','part'])['content_type_id'].agg('cumsum')\n",
    "\n"
   ]
  },
  {
   "cell_type": "code",
   "execution_count": 8,
   "metadata": {},
   "outputs": [],
   "source": [
    "lecture_seen=train_data.groupby('user_id',as_index=False).agg({'content_type_id':'sum'})\n",
    "lecture_seen.columns=['user_id','lecture_seen']\n",
    "lecture_part_seen=train_data.groupby(['user_id','part'],as_index=False).agg({'content_type_id':'sum'})\n",
    "lecture_part_seen.columns=['user_id','part','lecture_seen']"
   ]
  },
  {
   "cell_type": "code",
   "execution_count": 9,
   "metadata": {},
   "outputs": [],
   "source": [
    "lecture_seen.to_pickle('lecture_seen.pkl')\n",
    "lecture_part_seen.to_pickle('lecture_part_seen.pkl')"
   ]
  },
  {
   "cell_type": "code",
   "execution_count": 10,
   "metadata": {},
   "outputs": [],
   "source": [
    "train_data.drop(columns=['part'], inplace=True)"
   ]
  },
  {
   "cell_type": "markdown",
   "metadata": {},
   "source": [
    "## Remove Lecture rows"
   ]
  },
  {
   "cell_type": "code",
   "execution_count": 11,
   "metadata": {},
   "outputs": [
    {
     "data": {
      "text/plain": [
       "64"
      ]
     },
     "execution_count": 11,
     "metadata": {},
     "output_type": "execute_result"
    }
   ],
   "source": [
    "train = train_data[train_data.content_type_id == False].sort_values(['row_id']).reset_index(drop = True)\n",
    "del train_data\n",
    "gc.collect()"
   ]
  },
  {
   "cell_type": "code",
   "execution_count": 12,
   "metadata": {},
   "outputs": [],
   "source": [
    "max_timestamp_u = train[['user_id','timestamp']].groupby(['user_id']).agg(['max']).reset_index()\n",
    "max_timestamp_u.columns = ['user_id', 'max_time_stamp']\n",
    "max_timestamp_u.user_id=max_timestamp_u.user_id.astype('int32')"
   ]
  },
  {
   "cell_type": "code",
   "execution_count": 13,
   "metadata": {},
   "outputs": [],
   "source": [
    "max_timestamp_u.to_csv('max_timestamp_u.csv')"
   ]
  },
  {
   "cell_type": "code",
   "execution_count": 14,
   "metadata": {},
   "outputs": [],
   "source": [
    "train['lagtime'] = train.groupby('user_id')['timestamp'].shift()\n",
    "\n",
    "max_timestamp_u2 = train[['user_id','lagtime']].groupby(['user_id']).agg(['max']).reset_index()\n",
    "max_timestamp_u2.columns = ['user_id', 'max_time_stamp2']\n",
    "max_timestamp_u2.user_id=max_timestamp_u2.user_id.astype('int32')"
   ]
  },
  {
   "cell_type": "code",
   "execution_count": 15,
   "metadata": {},
   "outputs": [],
   "source": [
    "max_timestamp_u2.to_csv('max_timestamp_u2.csv')"
   ]
  },
  {
   "cell_type": "code",
   "execution_count": 16,
   "metadata": {},
   "outputs": [],
   "source": [
    "train['lagtime']=train['timestamp']-train['lagtime']\n",
    "lagtime_mean=train['lagtime'].mean()\n",
    "train['lagtime'].fillna(lagtime_mean, inplace=True)"
   ]
  },
  {
   "cell_type": "code",
   "execution_count": 17,
   "metadata": {},
   "outputs": [],
   "source": [
    "train['lagtime']=train['lagtime']/(1000*3600)\n",
    "train.lagtime=train.lagtime.astype('float32')"
   ]
  },
  {
   "cell_type": "code",
   "execution_count": 18,
   "metadata": {},
   "outputs": [],
   "source": [
    "train['lagtime2'] = train.groupby('user_id')['timestamp'].shift(2)\n",
    "\n",
    "max_timestamp_u3 = train[['user_id','lagtime2']].groupby(['user_id']).agg(['max']).reset_index()\n",
    "max_timestamp_u3.columns = ['user_id', 'max_time_stamp3']\n",
    "max_timestamp_u3.user_id=max_timestamp_u3.user_id.astype('int32')\n",
    "\n",
    "train['lagtime2']=train['timestamp']-train['lagtime2']\n",
    "lagtime_mean2=train['lagtime2'].mean()\n",
    "train['lagtime2'].fillna(lagtime_mean2, inplace=True)"
   ]
  },
  {
   "cell_type": "code",
   "execution_count": 19,
   "metadata": {},
   "outputs": [],
   "source": [
    "train['lagtime2']=train['lagtime2']/(1000*3600)\n",
    "train.lagtime2=train.lagtime2.astype('float32')"
   ]
  },
  {
   "cell_type": "code",
   "execution_count": 20,
   "metadata": {},
   "outputs": [],
   "source": [
    "max_timestamp_u3.to_csv('max_timestamp_u3.csv')"
   ]
  },
  {
   "cell_type": "code",
   "execution_count": 21,
   "metadata": {},
   "outputs": [],
   "source": [
    "train['lagtime3'] = train.groupby('user_id')['timestamp'].shift(3)\n",
    "\n",
    "train['lagtime3']=train['timestamp']-train['lagtime3']\n",
    "lagtime_mean3=train['lagtime3'].mean()\n",
    "train['lagtime3'].fillna(lagtime_mean3, inplace=True)\n",
    "train['lagtime3']=train['lagtime3']/(1000*3600)\n",
    "train.lagtime3=train.lagtime3.astype('float32')"
   ]
  },
  {
   "cell_type": "code",
   "execution_count": 22,
   "metadata": {},
   "outputs": [],
   "source": [
    "#\n",
    "train.timestamp=train.timestamp.astype('float16')"
   ]
  },
  {
   "cell_type": "code",
   "execution_count": 23,
   "metadata": {},
   "outputs": [],
   "source": [
    "user_prior_question_elapsed_time = train[['user_id','prior_question_elapsed_time']].groupby(['user_id']).tail(1)\n",
    "user_prior_question_elapsed_time.columns = ['user_id', 'prior_question_elapsed_time']\n"
   ]
  },
  {
   "cell_type": "code",
   "execution_count": 24,
   "metadata": {},
   "outputs": [],
   "source": [
    "train['delta_prior_question_elapsed_time'] = train.groupby('user_id')['prior_question_elapsed_time'].shift()\n",
    "train['delta_prior_question_elapsed_time']=train['prior_question_elapsed_time']-train['delta_prior_question_elapsed_time']"
   ]
  },
  {
   "cell_type": "code",
   "execution_count": 25,
   "metadata": {},
   "outputs": [],
   "source": [
    "delta_prior_question_elapsed_time_mean=train['delta_prior_question_elapsed_time'].mean()\n",
    "train['delta_prior_question_elapsed_time'].fillna(delta_prior_question_elapsed_time_mean, inplace=True)\n",
    "train.delta_prior_question_elapsed_time=train.delta_prior_question_elapsed_time.astype('int32')"
   ]
  },
  {
   "cell_type": "code",
   "execution_count": 26,
   "metadata": {},
   "outputs": [
    {
     "data": {
      "text/plain": [
       "Index(['row_id', 'timestamp', 'user_id', 'content_id', 'content_type_id',\n",
       "       'task_container_id', 'user_answer', 'answered_correctly',\n",
       "       'prior_question_elapsed_time', 'prior_question_had_explanation',\n",
       "       'lecture_seen', 'lecture_part_seen', 'lagtime', 'lagtime2', 'lagtime3',\n",
       "       'delta_prior_question_elapsed_time'],\n",
       "      dtype='object')"
      ]
     },
     "execution_count": 26,
     "metadata": {},
     "output_type": "execute_result"
    }
   ],
   "source": [
    "train.columns"
   ]
  },
  {
   "cell_type": "code",
   "execution_count": 27,
   "metadata": {},
   "outputs": [],
   "source": [
    "train_lagtimes=train[['lagtime','lagtime2','lagtime3','delta_prior_question_elapsed_time']]"
   ]
  },
  {
   "cell_type": "code",
   "execution_count": 28,
   "metadata": {},
   "outputs": [],
   "source": [
    "train_lagtimes.to_csv('train_lagtimes.csv')"
   ]
  },
  {
   "cell_type": "code",
   "execution_count": 29,
   "metadata": {},
   "outputs": [
    {
     "data": {
      "text/plain": [
       "60008399.99610778"
      ]
     },
     "execution_count": 29,
     "metadata": {},
     "output_type": "execute_result"
    }
   ],
   "source": [
    "lagtime_mean3\n"
   ]
  },
  {
   "cell_type": "code",
   "execution_count": 30,
   "metadata": {},
   "outputs": [
    {
     "data": {
      "text/plain": [
       "40370652.30368494"
      ]
     },
     "execution_count": 30,
     "metadata": {},
     "output_type": "execute_result"
    }
   ],
   "source": [
    "lagtime_mean2"
   ]
  },
  {
   "cell_type": "code",
   "execution_count": 31,
   "metadata": {},
   "outputs": [
    {
     "data": {
      "text/plain": [
       "20441941.566456214"
      ]
     },
     "execution_count": 31,
     "metadata": {},
     "output_type": "execute_result"
    }
   ],
   "source": [
    "lagtime_mean"
   ]
  },
  {
   "cell_type": "code",
   "execution_count": 32,
   "metadata": {},
   "outputs": [
    {
     "data": {
      "text/plain": [
       "-8.967329025268555"
      ]
     },
     "execution_count": 32,
     "metadata": {},
     "output_type": "execute_result"
    }
   ],
   "source": [
    "delta_prior_question_elapsed_time_mean"
   ]
  },
  {
   "cell_type": "code",
   "execution_count": 33,
   "metadata": {},
   "outputs": [],
   "source": [
    "#train[train['user_id']==3754835].head(50"
   ]
  },
  {
   "cell_type": "markdown",
   "metadata": {},
   "source": [
    "## Shifting Data"
   ]
  },
  {
   "cell_type": "code",
   "execution_count": 34,
   "metadata": {},
   "outputs": [],
   "source": [
    "##group by task container Id\n",
    "train_by_task=train.groupby(['user_id','task_container_id'],as_index=False).agg({'timestamp':'first','content_id':'first','prior_question_elapsed_time':'first',\n",
    "                                                                  'prior_question_had_explanation':'first','answered_correctly':'count'})\n",
    "\n",
    "train_by_task.columns=['user_id','task_container_id','timestamp','content_id','prior_question_elapsed_time','prior_question_had_explanation','nbr_question']"
   ]
  },
  {
   "cell_type": "code",
   "execution_count": 35,
   "metadata": {},
   "outputs": [],
   "source": [
    "train_by_task=train_by_task.sort_values(['user_id','timestamp']).reset_index(drop = True)\n",
    "#train_by_task['lag'] = train_by_task.groupby('user_id')['answered_correctly'].shift()"
   ]
  },
  {
   "cell_type": "code",
   "execution_count": 36,
   "metadata": {},
   "outputs": [],
   "source": [
    "##Shifted For Questions\n",
    "shifted=pd.DataFrame()\n",
    "shifted['question_elapsed_time']=train_by_task.groupby(['user_id'])['prior_question_elapsed_time'].shift(-1)\n",
    "shifted['question_had_explanation']=train_by_task.groupby(['user_id'])['prior_question_had_explanation'].shift(-1)"
   ]
  },
  {
   "cell_type": "code",
   "execution_count": 37,
   "metadata": {},
   "outputs": [],
   "source": [
    "train_by_task['question_elapsed_time']=shifted['question_elapsed_time']\n",
    "train_by_task['question_had_explanation']=shifted['question_had_explanation']"
   ]
  },
  {
   "cell_type": "code",
   "execution_count": 38,
   "metadata": {},
   "outputs": [],
   "source": [
    "train_by_task['lag'] = train_by_task.groupby('user_id')['timestamp'].shift()\n",
    "#train_by_task['lag_nbr_question'] = train_by_task.groupby('user_id')['nbr_question'].shift()\n",
    "train_by_task['lag_time']=train_by_task['timestamp']-train_by_task['lag']-(train_by_task['question_elapsed_time']*train_by_task['nbr_question'])\n",
    "\n",
    "train_by_task['prior_lag_time'] = train_by_task.groupby('user_id')['lag_time'].shift()\n",
    "\n",
    "train_by_task['prior_lag_time'].fillna(0,inplace=True)\n",
    "train_by_task.loc[train_by_task['prior_lag_time']<0,'prior_lag_time']=0"
   ]
  },
  {
   "cell_type": "code",
   "execution_count": 39,
   "metadata": {},
   "outputs": [],
   "source": [
    "#train_by_task[train_by_task['user_id']==3754835].head(30)"
   ]
  },
  {
   "cell_type": "code",
   "execution_count": 40,
   "metadata": {},
   "outputs": [],
   "source": [
    "#train_by_task[(train_by_task['lag_time']<0) & (train_by_task['nbr_question']>1)].head(50)"
   ]
  },
  {
   "cell_type": "code",
   "execution_count": 41,
   "metadata": {},
   "outputs": [],
   "source": [
    "#,'lag_nbr_question'\n",
    "#train_by_task.drop(columns=['lag','lag_time'], inplace=True)"
   ]
  },
  {
   "cell_type": "code",
   "execution_count": 42,
   "metadata": {},
   "outputs": [
    {
     "data": {
      "text/plain": [
       "0"
      ]
     },
     "execution_count": 42,
     "metadata": {},
     "output_type": "execute_result"
    }
   ],
   "source": [
    "train=train.merge(train_by_task[['user_id','task_container_id','question_elapsed_time','question_had_explanation']],on=['user_id','task_container_id'],how='left')\n",
    "\n",
    "\n",
    "del shifted\n",
    "gc.collect()"
   ]
  },
  {
   "cell_type": "markdown",
   "metadata": {},
   "source": [
    "# Question Data"
   ]
  },
  {
   "cell_type": "code",
   "execution_count": 43,
   "metadata": {},
   "outputs": [],
   "source": [
    "que_data.tags.fillna('8',inplace=True)\n",
    "tags=que_data.groupby('tags',as_index=False)['tags'].first()\n",
    "tags=tags.reset_index()\n",
    "tags.columns=['tags_label','tags']\n",
    "tags['tags_label']=tags['tags_label'].astype('int16')\n",
    "question_df= pd.merge(que_data,tags,on='tags',how='left')"
   ]
  },
  {
   "cell_type": "code",
   "execution_count": 44,
   "metadata": {},
   "outputs": [],
   "source": [
    "question_acc=train.groupby('content_id').agg({'answered_correctly':['mean','count'],'question_elapsed_time':'mean','question_had_explanation':'sum'})\n",
    "question_acc.columns=['question_accuracy','question_nbr_seen','avg_question_elapsed_time','total_question_had_exlanation']\n"
   ]
  },
  {
   "cell_type": "code",
   "execution_count": 45,
   "metadata": {},
   "outputs": [
    {
     "data": {
      "text/plain": [
       "20"
      ]
     },
     "execution_count": 45,
     "metadata": {},
     "output_type": "execute_result"
    }
   ],
   "source": [
    "question_df=question_df.merge(question_acc,left_on='question_id',right_on='content_id',how='left')\n",
    "del question_acc\n",
    "gc.collect()\n",
    "\n"
   ]
  },
  {
   "cell_type": "code",
   "execution_count": 46,
   "metadata": {},
   "outputs": [
    {
     "data": {
      "text/html": [
       "<div>\n",
       "<style scoped>\n",
       "    .dataframe tbody tr th:only-of-type {\n",
       "        vertical-align: middle;\n",
       "    }\n",
       "\n",
       "    .dataframe tbody tr th {\n",
       "        vertical-align: top;\n",
       "    }\n",
       "\n",
       "    .dataframe thead th {\n",
       "        text-align: right;\n",
       "    }\n",
       "</style>\n",
       "<table border=\"1\" class=\"dataframe\">\n",
       "  <thead>\n",
       "    <tr style=\"text-align: right;\">\n",
       "      <th></th>\n",
       "      <th>question_id</th>\n",
       "      <th>bundle_id</th>\n",
       "      <th>part</th>\n",
       "      <th>tags</th>\n",
       "      <th>tags_label</th>\n",
       "      <th>question_accuracy</th>\n",
       "      <th>question_nbr_seen</th>\n",
       "      <th>avg_question_elapsed_time</th>\n",
       "      <th>avg_question_had_exlanation</th>\n",
       "    </tr>\n",
       "  </thead>\n",
       "  <tbody>\n",
       "    <tr>\n",
       "      <th>0</th>\n",
       "      <td>0</td>\n",
       "      <td>0</td>\n",
       "      <td>1</td>\n",
       "      <td>51 131 162 38</td>\n",
       "      <td>981</td>\n",
       "      <td>0.907721</td>\n",
       "      <td>0.940345</td>\n",
       "      <td>19805.785156</td>\n",
       "      <td>0.951036</td>\n",
       "    </tr>\n",
       "    <tr>\n",
       "      <th>1</th>\n",
       "      <td>1</td>\n",
       "      <td>1</td>\n",
       "      <td>1</td>\n",
       "      <td>131 36 81</td>\n",
       "      <td>307</td>\n",
       "      <td>0.890646</td>\n",
       "      <td>1.007775</td>\n",
       "      <td>19559.232422</td>\n",
       "      <td>0.978913</td>\n",
       "    </tr>\n",
       "    <tr>\n",
       "      <th>2</th>\n",
       "      <td>2</td>\n",
       "      <td>2</td>\n",
       "      <td>1</td>\n",
       "      <td>131 101 162 92</td>\n",
       "      <td>251</td>\n",
       "      <td>0.554281</td>\n",
       "      <td>6.117078</td>\n",
       "      <td>24605.371094</td>\n",
       "      <td>0.899655</td>\n",
       "    </tr>\n",
       "    <tr>\n",
       "      <th>3</th>\n",
       "      <td>3</td>\n",
       "      <td>3</td>\n",
       "      <td>1</td>\n",
       "      <td>131 149 162 29</td>\n",
       "      <td>287</td>\n",
       "      <td>0.779437</td>\n",
       "      <td>3.129443</td>\n",
       "      <td>21597.361328</td>\n",
       "      <td>0.966831</td>\n",
       "    </tr>\n",
       "    <tr>\n",
       "      <th>4</th>\n",
       "      <td>4</td>\n",
       "      <td>4</td>\n",
       "      <td>1</td>\n",
       "      <td>131 5 162 38</td>\n",
       "      <td>317</td>\n",
       "      <td>0.613215</td>\n",
       "      <td>4.323162</td>\n",
       "      <td>22116.441406</td>\n",
       "      <td>0.532518</td>\n",
       "    </tr>\n",
       "    <tr>\n",
       "      <th>...</th>\n",
       "      <td>...</td>\n",
       "      <td>...</td>\n",
       "      <td>...</td>\n",
       "      <td>...</td>\n",
       "      <td>...</td>\n",
       "      <td>...</td>\n",
       "      <td>...</td>\n",
       "      <td>...</td>\n",
       "      <td>...</td>\n",
       "    </tr>\n",
       "    <tr>\n",
       "      <th>13518</th>\n",
       "      <td>13518</td>\n",
       "      <td>13518</td>\n",
       "      <td>5</td>\n",
       "      <td>14</td>\n",
       "      <td>489</td>\n",
       "      <td>0.786866</td>\n",
       "      <td>0.118241</td>\n",
       "      <td>16426.349609</td>\n",
       "      <td>0.978111</td>\n",
       "    </tr>\n",
       "    <tr>\n",
       "      <th>13519</th>\n",
       "      <td>13519</td>\n",
       "      <td>13519</td>\n",
       "      <td>5</td>\n",
       "      <td>8</td>\n",
       "      <td>1218</td>\n",
       "      <td>0.571429</td>\n",
       "      <td>0.125870</td>\n",
       "      <td>29960.404297</td>\n",
       "      <td>0.985931</td>\n",
       "    </tr>\n",
       "    <tr>\n",
       "      <th>13520</th>\n",
       "      <td>13520</td>\n",
       "      <td>13520</td>\n",
       "      <td>5</td>\n",
       "      <td>73</td>\n",
       "      <td>1109</td>\n",
       "      <td>0.672474</td>\n",
       "      <td>0.117288</td>\n",
       "      <td>30341.498047</td>\n",
       "      <td>0.970964</td>\n",
       "    </tr>\n",
       "    <tr>\n",
       "      <th>13521</th>\n",
       "      <td>13521</td>\n",
       "      <td>13521</td>\n",
       "      <td>5</td>\n",
       "      <td>125</td>\n",
       "      <td>221</td>\n",
       "      <td>0.808046</td>\n",
       "      <td>0.118514</td>\n",
       "      <td>21003.710938</td>\n",
       "      <td>0.975862</td>\n",
       "    </tr>\n",
       "    <tr>\n",
       "      <th>13522</th>\n",
       "      <td>13522</td>\n",
       "      <td>13522</td>\n",
       "      <td>5</td>\n",
       "      <td>55</td>\n",
       "      <td>993</td>\n",
       "      <td>0.913953</td>\n",
       "      <td>0.117151</td>\n",
       "      <td>23391.310547</td>\n",
       "      <td>0.977907</td>\n",
       "    </tr>\n",
       "  </tbody>\n",
       "</table>\n",
       "<p>13523 rows × 9 columns</p>\n",
       "</div>"
      ],
      "text/plain": [
       "       question_id  bundle_id  part            tags  tags_label  \\\n",
       "0                0          0     1   51 131 162 38         981   \n",
       "1                1          1     1       131 36 81         307   \n",
       "2                2          2     1  131 101 162 92         251   \n",
       "3                3          3     1  131 149 162 29         287   \n",
       "4                4          4     1    131 5 162 38         317   \n",
       "...            ...        ...   ...             ...         ...   \n",
       "13518        13518      13518     5              14         489   \n",
       "13519        13519      13519     5               8        1218   \n",
       "13520        13520      13520     5              73        1109   \n",
       "13521        13521      13521     5             125         221   \n",
       "13522        13522      13522     5              55         993   \n",
       "\n",
       "       question_accuracy  question_nbr_seen  avg_question_elapsed_time  \\\n",
       "0               0.907721           0.940345               19805.785156   \n",
       "1               0.890646           1.007775               19559.232422   \n",
       "2               0.554281           6.117078               24605.371094   \n",
       "3               0.779437           3.129443               21597.361328   \n",
       "4               0.613215           4.323162               22116.441406   \n",
       "...                  ...                ...                        ...   \n",
       "13518           0.786866           0.118241               16426.349609   \n",
       "13519           0.571429           0.125870               29960.404297   \n",
       "13520           0.672474           0.117288               30341.498047   \n",
       "13521           0.808046           0.118514               21003.710938   \n",
       "13522           0.913953           0.117151               23391.310547   \n",
       "\n",
       "       avg_question_had_exlanation  \n",
       "0                         0.951036  \n",
       "1                         0.978913  \n",
       "2                         0.899655  \n",
       "3                         0.966831  \n",
       "4                         0.532518  \n",
       "...                            ...  \n",
       "13518                     0.978111  \n",
       "13519                     0.985931  \n",
       "13520                     0.970964  \n",
       "13521                     0.975862  \n",
       "13522                     0.977907  \n",
       "\n",
       "[13523 rows x 9 columns]"
      ]
     },
     "execution_count": 46,
     "metadata": {},
     "output_type": "execute_result"
    }
   ],
   "source": [
    "#question_df=question_df.merge(question_acc,left_on='question_id',right_on='content_id',how='left')\n",
    "question_df['avg_question_had_exlanation']=question_df['total_question_had_exlanation']/question_df['question_nbr_seen']\n",
    "question_df['question_nbr_seen']=question_df['question_nbr_seen']/question_df['question_nbr_seen'].mean()\n",
    "\n",
    "\n",
    "\n",
    "question_df[['question_id','bundle_id','part','tags','tags_label','question_accuracy','question_nbr_seen','avg_question_elapsed_time','avg_question_had_exlanation']]\n",
    "\n"
   ]
  },
  {
   "cell_type": "code",
   "execution_count": 47,
   "metadata": {},
   "outputs": [],
   "source": [
    "question_to_merge=question_df[['question_id','bundle_id','part','tags','tags_label','question_accuracy','question_nbr_seen','avg_question_elapsed_time','avg_question_had_exlanation']]\n",
    "\n"
   ]
  },
  {
   "cell_type": "code",
   "execution_count": 48,
   "metadata": {},
   "outputs": [
    {
     "ename": "KeyboardInterrupt",
     "evalue": "",
     "output_type": "error",
     "traceback": [
      "\u001b[0;31m---------------------------------------------------------------------------\u001b[0m",
      "\u001b[0;31mKeyboardInterrupt\u001b[0m                         Traceback (most recent call last)",
      "\u001b[0;32m<ipython-input-48-680585be9afd>\u001b[0m in \u001b[0;36m<module>\u001b[0;34m\u001b[0m\n\u001b[0;32m----> 1\u001b[0;31m \u001b[0mmean_part\u001b[0m\u001b[0;34m=\u001b[0m\u001b[0mtrain\u001b[0m\u001b[0;34m.\u001b[0m\u001b[0mmerge\u001b[0m\u001b[0;34m(\u001b[0m\u001b[0mque_data\u001b[0m\u001b[0;34m[\u001b[0m\u001b[0;34m[\u001b[0m\u001b[0;34m'question_id'\u001b[0m\u001b[0;34m,\u001b[0m\u001b[0;34m'part'\u001b[0m\u001b[0;34m]\u001b[0m\u001b[0;34m]\u001b[0m\u001b[0;34m,\u001b[0m\u001b[0mleft_on\u001b[0m\u001b[0;34m=\u001b[0m\u001b[0;34m'content_id'\u001b[0m\u001b[0;34m,\u001b[0m\u001b[0mright_on\u001b[0m\u001b[0;34m=\u001b[0m\u001b[0;34m'question_id'\u001b[0m\u001b[0;34m,\u001b[0m\u001b[0mhow\u001b[0m\u001b[0;34m=\u001b[0m\u001b[0;34m'left'\u001b[0m\u001b[0;34m)\u001b[0m\u001b[0;34m.\u001b[0m\u001b[0mgroupby\u001b[0m\u001b[0;34m(\u001b[0m\u001b[0;34m'part'\u001b[0m\u001b[0;34m)\u001b[0m\u001b[0;34m.\u001b[0m\u001b[0magg\u001b[0m\u001b[0;34m(\u001b[0m\u001b[0;34m{\u001b[0m\u001b[0;34m'answered_correctly'\u001b[0m\u001b[0;34m:\u001b[0m\u001b[0;34m'mean'\u001b[0m\u001b[0;34m}\u001b[0m\u001b[0;34m)\u001b[0m\u001b[0;34m\u001b[0m\u001b[0;34m\u001b[0m\u001b[0m\n\u001b[0m\u001b[1;32m      2\u001b[0m \u001b[0mmean_part\u001b[0m\u001b[0;34m.\u001b[0m\u001b[0mcolumns\u001b[0m\u001b[0;34m=\u001b[0m\u001b[0;34m[\u001b[0m\u001b[0;34m'part_accuracy'\u001b[0m\u001b[0;34m]\u001b[0m\u001b[0;34m\u001b[0m\u001b[0;34m\u001b[0m\u001b[0m\n\u001b[1;32m      3\u001b[0m \u001b[0;34m\u001b[0m\u001b[0m\n\u001b[1;32m      4\u001b[0m \u001b[0mquestion_to_merge\u001b[0m\u001b[0;34m=\u001b[0m\u001b[0mquestion_to_merge\u001b[0m\u001b[0;34m.\u001b[0m\u001b[0mmerge\u001b[0m\u001b[0;34m(\u001b[0m\u001b[0mmean_part\u001b[0m\u001b[0;34m,\u001b[0m\u001b[0mon\u001b[0m\u001b[0;34m=\u001b[0m\u001b[0;34m'part'\u001b[0m\u001b[0;34m,\u001b[0m\u001b[0mhow\u001b[0m\u001b[0;34m=\u001b[0m\u001b[0;34m'left'\u001b[0m\u001b[0;34m)\u001b[0m\u001b[0;34m\u001b[0m\u001b[0;34m\u001b[0m\u001b[0m\n\u001b[1;32m      5\u001b[0m \u001b[0;32mdel\u001b[0m \u001b[0mmean_part\u001b[0m\u001b[0;34m\u001b[0m\u001b[0;34m\u001b[0m\u001b[0m\n",
      "\u001b[0;32m~/opt/anaconda3/lib/python3.8/site-packages/pandas/core/frame.py\u001b[0m in \u001b[0;36mmerge\u001b[0;34m(self, right, how, on, left_on, right_on, left_index, right_index, sort, suffixes, copy, indicator, validate)\u001b[0m\n\u001b[1;32m   7944\u001b[0m         \u001b[0;32mfrom\u001b[0m \u001b[0mpandas\u001b[0m\u001b[0;34m.\u001b[0m\u001b[0mcore\u001b[0m\u001b[0;34m.\u001b[0m\u001b[0mreshape\u001b[0m\u001b[0;34m.\u001b[0m\u001b[0mmerge\u001b[0m \u001b[0;32mimport\u001b[0m \u001b[0mmerge\u001b[0m\u001b[0;34m\u001b[0m\u001b[0;34m\u001b[0m\u001b[0m\n\u001b[1;32m   7945\u001b[0m \u001b[0;34m\u001b[0m\u001b[0m\n\u001b[0;32m-> 7946\u001b[0;31m         return merge(\n\u001b[0m\u001b[1;32m   7947\u001b[0m             \u001b[0mself\u001b[0m\u001b[0;34m,\u001b[0m\u001b[0;34m\u001b[0m\u001b[0;34m\u001b[0m\u001b[0m\n\u001b[1;32m   7948\u001b[0m             \u001b[0mright\u001b[0m\u001b[0;34m,\u001b[0m\u001b[0;34m\u001b[0m\u001b[0;34m\u001b[0m\u001b[0m\n",
      "\u001b[0;32m~/opt/anaconda3/lib/python3.8/site-packages/pandas/core/reshape/merge.py\u001b[0m in \u001b[0;36mmerge\u001b[0;34m(left, right, how, on, left_on, right_on, left_index, right_index, sort, suffixes, copy, indicator, validate)\u001b[0m\n\u001b[1;32m     87\u001b[0m         \u001b[0mvalidate\u001b[0m\u001b[0;34m=\u001b[0m\u001b[0mvalidate\u001b[0m\u001b[0;34m,\u001b[0m\u001b[0;34m\u001b[0m\u001b[0;34m\u001b[0m\u001b[0m\n\u001b[1;32m     88\u001b[0m     )\n\u001b[0;32m---> 89\u001b[0;31m     \u001b[0;32mreturn\u001b[0m \u001b[0mop\u001b[0m\u001b[0;34m.\u001b[0m\u001b[0mget_result\u001b[0m\u001b[0;34m(\u001b[0m\u001b[0;34m)\u001b[0m\u001b[0;34m\u001b[0m\u001b[0;34m\u001b[0m\u001b[0m\n\u001b[0m\u001b[1;32m     90\u001b[0m \u001b[0;34m\u001b[0m\u001b[0m\n\u001b[1;32m     91\u001b[0m \u001b[0;34m\u001b[0m\u001b[0m\n",
      "\u001b[0;32m~/opt/anaconda3/lib/python3.8/site-packages/pandas/core/reshape/merge.py\u001b[0m in \u001b[0;36mget_result\u001b[0;34m(self)\u001b[0m\n\u001b[1;32m    666\u001b[0m             \u001b[0mself\u001b[0m\u001b[0;34m.\u001b[0m\u001b[0mleft\u001b[0m\u001b[0;34m,\u001b[0m \u001b[0mself\u001b[0m\u001b[0;34m.\u001b[0m\u001b[0mright\u001b[0m \u001b[0;34m=\u001b[0m \u001b[0mself\u001b[0m\u001b[0;34m.\u001b[0m\u001b[0m_indicator_pre_merge\u001b[0m\u001b[0;34m(\u001b[0m\u001b[0mself\u001b[0m\u001b[0;34m.\u001b[0m\u001b[0mleft\u001b[0m\u001b[0;34m,\u001b[0m \u001b[0mself\u001b[0m\u001b[0;34m.\u001b[0m\u001b[0mright\u001b[0m\u001b[0;34m)\u001b[0m\u001b[0;34m\u001b[0m\u001b[0;34m\u001b[0m\u001b[0m\n\u001b[1;32m    667\u001b[0m \u001b[0;34m\u001b[0m\u001b[0m\n\u001b[0;32m--> 668\u001b[0;31m         \u001b[0mjoin_index\u001b[0m\u001b[0;34m,\u001b[0m \u001b[0mleft_indexer\u001b[0m\u001b[0;34m,\u001b[0m \u001b[0mright_indexer\u001b[0m \u001b[0;34m=\u001b[0m \u001b[0mself\u001b[0m\u001b[0;34m.\u001b[0m\u001b[0m_get_join_info\u001b[0m\u001b[0;34m(\u001b[0m\u001b[0;34m)\u001b[0m\u001b[0;34m\u001b[0m\u001b[0;34m\u001b[0m\u001b[0m\n\u001b[0m\u001b[1;32m    669\u001b[0m \u001b[0;34m\u001b[0m\u001b[0m\n\u001b[1;32m    670\u001b[0m         llabels, rlabels = _items_overlap_with_suffix(\n",
      "\u001b[0;32m~/opt/anaconda3/lib/python3.8/site-packages/pandas/core/reshape/merge.py\u001b[0m in \u001b[0;36m_get_join_info\u001b[0;34m(self)\u001b[0m\n\u001b[1;32m    882\u001b[0m             )\n\u001b[1;32m    883\u001b[0m         \u001b[0;32melse\u001b[0m\u001b[0;34m:\u001b[0m\u001b[0;34m\u001b[0m\u001b[0;34m\u001b[0m\u001b[0m\n\u001b[0;32m--> 884\u001b[0;31m             \u001b[0;34m(\u001b[0m\u001b[0mleft_indexer\u001b[0m\u001b[0;34m,\u001b[0m \u001b[0mright_indexer\u001b[0m\u001b[0;34m)\u001b[0m \u001b[0;34m=\u001b[0m \u001b[0mself\u001b[0m\u001b[0;34m.\u001b[0m\u001b[0m_get_join_indexers\u001b[0m\u001b[0;34m(\u001b[0m\u001b[0;34m)\u001b[0m\u001b[0;34m\u001b[0m\u001b[0;34m\u001b[0m\u001b[0m\n\u001b[0m\u001b[1;32m    885\u001b[0m \u001b[0;34m\u001b[0m\u001b[0m\n\u001b[1;32m    886\u001b[0m             \u001b[0;32mif\u001b[0m \u001b[0mself\u001b[0m\u001b[0;34m.\u001b[0m\u001b[0mright_index\u001b[0m\u001b[0;34m:\u001b[0m\u001b[0;34m\u001b[0m\u001b[0;34m\u001b[0m\u001b[0m\n",
      "\u001b[0;32m~/opt/anaconda3/lib/python3.8/site-packages/pandas/core/reshape/merge.py\u001b[0m in \u001b[0;36m_get_join_indexers\u001b[0;34m(self)\u001b[0m\n\u001b[1;32m    860\u001b[0m     \u001b[0;32mdef\u001b[0m \u001b[0m_get_join_indexers\u001b[0m\u001b[0;34m(\u001b[0m\u001b[0mself\u001b[0m\u001b[0;34m)\u001b[0m\u001b[0;34m:\u001b[0m\u001b[0;34m\u001b[0m\u001b[0;34m\u001b[0m\u001b[0m\n\u001b[1;32m    861\u001b[0m         \u001b[0;34m\"\"\" return the join indexers \"\"\"\u001b[0m\u001b[0;34m\u001b[0m\u001b[0;34m\u001b[0m\u001b[0m\n\u001b[0;32m--> 862\u001b[0;31m         return _get_join_indexers(\n\u001b[0m\u001b[1;32m    863\u001b[0m             \u001b[0mself\u001b[0m\u001b[0;34m.\u001b[0m\u001b[0mleft_join_keys\u001b[0m\u001b[0;34m,\u001b[0m \u001b[0mself\u001b[0m\u001b[0;34m.\u001b[0m\u001b[0mright_join_keys\u001b[0m\u001b[0;34m,\u001b[0m \u001b[0msort\u001b[0m\u001b[0;34m=\u001b[0m\u001b[0mself\u001b[0m\u001b[0;34m.\u001b[0m\u001b[0msort\u001b[0m\u001b[0;34m,\u001b[0m \u001b[0mhow\u001b[0m\u001b[0;34m=\u001b[0m\u001b[0mself\u001b[0m\u001b[0;34m.\u001b[0m\u001b[0mhow\u001b[0m\u001b[0;34m\u001b[0m\u001b[0;34m\u001b[0m\u001b[0m\n\u001b[1;32m    864\u001b[0m         )\n",
      "\u001b[0;32m~/opt/anaconda3/lib/python3.8/site-packages/pandas/core/reshape/merge.py\u001b[0m in \u001b[0;36m_get_join_indexers\u001b[0;34m(left_keys, right_keys, sort, how, **kwargs)\u001b[0m\n\u001b[1;32m   1336\u001b[0m     \u001b[0;31m# set(lkey) | set(rkey) == range(count)\u001b[0m\u001b[0;34m\u001b[0m\u001b[0;34m\u001b[0m\u001b[0;34m\u001b[0m\u001b[0m\n\u001b[1;32m   1337\u001b[0m \u001b[0;34m\u001b[0m\u001b[0m\n\u001b[0;32m-> 1338\u001b[0;31m     \u001b[0mlkey\u001b[0m\u001b[0;34m,\u001b[0m \u001b[0mrkey\u001b[0m\u001b[0;34m,\u001b[0m \u001b[0mcount\u001b[0m \u001b[0;34m=\u001b[0m \u001b[0m_factorize_keys\u001b[0m\u001b[0;34m(\u001b[0m\u001b[0mlkey\u001b[0m\u001b[0;34m,\u001b[0m \u001b[0mrkey\u001b[0m\u001b[0;34m,\u001b[0m \u001b[0msort\u001b[0m\u001b[0;34m=\u001b[0m\u001b[0msort\u001b[0m\u001b[0;34m,\u001b[0m \u001b[0mhow\u001b[0m\u001b[0;34m=\u001b[0m\u001b[0mhow\u001b[0m\u001b[0;34m)\u001b[0m\u001b[0;34m\u001b[0m\u001b[0;34m\u001b[0m\u001b[0m\n\u001b[0m\u001b[1;32m   1339\u001b[0m     \u001b[0;31m# preserve left frame order if how == 'left' and sort == False\u001b[0m\u001b[0;34m\u001b[0m\u001b[0;34m\u001b[0m\u001b[0;34m\u001b[0m\u001b[0m\n\u001b[1;32m   1340\u001b[0m     \u001b[0mkwargs\u001b[0m \u001b[0;34m=\u001b[0m \u001b[0mcopy\u001b[0m\u001b[0;34m.\u001b[0m\u001b[0mcopy\u001b[0m\u001b[0;34m(\u001b[0m\u001b[0mkwargs\u001b[0m\u001b[0;34m)\u001b[0m\u001b[0;34m\u001b[0m\u001b[0;34m\u001b[0m\u001b[0m\n",
      "\u001b[0;32m~/opt/anaconda3/lib/python3.8/site-packages/pandas/core/reshape/merge.py\u001b[0m in \u001b[0;36m_factorize_keys\u001b[0;34m(lk, rk, sort, how)\u001b[0m\n\u001b[1;32m   1971\u001b[0m     \u001b[0mrizer\u001b[0m \u001b[0;34m=\u001b[0m \u001b[0mklass\u001b[0m\u001b[0;34m(\u001b[0m\u001b[0mmax\u001b[0m\u001b[0;34m(\u001b[0m\u001b[0mlen\u001b[0m\u001b[0;34m(\u001b[0m\u001b[0mlk\u001b[0m\u001b[0;34m)\u001b[0m\u001b[0;34m,\u001b[0m \u001b[0mlen\u001b[0m\u001b[0;34m(\u001b[0m\u001b[0mrk\u001b[0m\u001b[0;34m)\u001b[0m\u001b[0;34m)\u001b[0m\u001b[0;34m)\u001b[0m\u001b[0;34m\u001b[0m\u001b[0;34m\u001b[0m\u001b[0m\n\u001b[1;32m   1972\u001b[0m \u001b[0;34m\u001b[0m\u001b[0m\n\u001b[0;32m-> 1973\u001b[0;31m     \u001b[0mllab\u001b[0m \u001b[0;34m=\u001b[0m \u001b[0mrizer\u001b[0m\u001b[0;34m.\u001b[0m\u001b[0mfactorize\u001b[0m\u001b[0;34m(\u001b[0m\u001b[0mlk\u001b[0m\u001b[0;34m)\u001b[0m\u001b[0;34m\u001b[0m\u001b[0;34m\u001b[0m\u001b[0m\n\u001b[0m\u001b[1;32m   1974\u001b[0m     \u001b[0mrlab\u001b[0m \u001b[0;34m=\u001b[0m \u001b[0mrizer\u001b[0m\u001b[0;34m.\u001b[0m\u001b[0mfactorize\u001b[0m\u001b[0;34m(\u001b[0m\u001b[0mrk\u001b[0m\u001b[0;34m)\u001b[0m\u001b[0;34m\u001b[0m\u001b[0;34m\u001b[0m\u001b[0m\n\u001b[1;32m   1975\u001b[0m \u001b[0;34m\u001b[0m\u001b[0m\n",
      "\u001b[0;32mpandas/_libs/hashtable.pyx\u001b[0m in \u001b[0;36mpandas._libs.hashtable.Int64Factorizer.factorize\u001b[0;34m()\u001b[0m\n",
      "\u001b[0;32mpandas/_libs/hashtable_class_helper.pxi\u001b[0m in \u001b[0;36mpandas._libs.hashtable.Int64HashTable.get_labels\u001b[0;34m()\u001b[0m\n",
      "\u001b[0;32mpandas/_libs/hashtable_class_helper.pxi\u001b[0m in \u001b[0;36mpandas._libs.hashtable.Int64HashTable._unique\u001b[0;34m()\u001b[0m\n",
      "\u001b[0;32m~/opt/anaconda3/lib/python3.8/site-packages/numpy/core/_asarray.py\u001b[0m in \u001b[0;36masarray\u001b[0;34m(a, dtype, order)\u001b[0m\n\u001b[1;32m     12\u001b[0m ]\n\u001b[1;32m     13\u001b[0m \u001b[0;34m\u001b[0m\u001b[0m\n\u001b[0;32m---> 14\u001b[0;31m \u001b[0;34m@\u001b[0m\u001b[0mset_module\u001b[0m\u001b[0;34m(\u001b[0m\u001b[0;34m'numpy'\u001b[0m\u001b[0;34m)\u001b[0m\u001b[0;34m\u001b[0m\u001b[0;34m\u001b[0m\u001b[0m\n\u001b[0m\u001b[1;32m     15\u001b[0m \u001b[0;32mdef\u001b[0m \u001b[0masarray\u001b[0m\u001b[0;34m(\u001b[0m\u001b[0ma\u001b[0m\u001b[0;34m,\u001b[0m \u001b[0mdtype\u001b[0m\u001b[0;34m=\u001b[0m\u001b[0;32mNone\u001b[0m\u001b[0;34m,\u001b[0m \u001b[0morder\u001b[0m\u001b[0;34m=\u001b[0m\u001b[0;32mNone\u001b[0m\u001b[0;34m)\u001b[0m\u001b[0;34m:\u001b[0m\u001b[0;34m\u001b[0m\u001b[0;34m\u001b[0m\u001b[0m\n\u001b[1;32m     16\u001b[0m     \"\"\"Convert the input to an array.\n",
      "\u001b[0;31mKeyboardInterrupt\u001b[0m: "
     ]
    }
   ],
   "source": [
    "mean_part=train.merge(que_data[['question_id','part']],left_on='content_id',right_on='question_id',how='left').groupby('part').agg({'answered_correctly':'mean'})\n",
    "mean_part.columns=['part_accuracy']\n",
    "\n",
    "question_to_merge=question_to_merge.merge(mean_part,on='part',how='left')\n",
    "del mean_part\n",
    "gc.collect()"
   ]
  },
  {
   "cell_type": "code",
   "execution_count": null,
   "metadata": {},
   "outputs": [],
   "source": [
    "question_to_merge['h_part_accuracy']=2*((question_to_merge['question_accuracy']*question_to_merge['part_accuracy'])/(question_to_merge['question_accuracy']+question_to_merge['part_accuracy']))\n"
   ]
  },
  {
   "cell_type": "code",
   "execution_count": null,
   "metadata": {},
   "outputs": [],
   "source": [
    "question_to_merge.columns"
   ]
  },
  {
   "cell_type": "code",
   "execution_count": null,
   "metadata": {},
   "outputs": [],
   "source": [
    "question_to_merge.columns=['content_id','bundle_id','part','tags','tags_label','question_accuracy','question_nbr_seen','avg_question_elapsed_time','avg_question_had_exlanation','part_accuracy',\n",
    "       'h_part_accuracy']\n",
    "question_to_merge['content_type_id']=0"
   ]
  },
  {
   "cell_type": "code",
   "execution_count": null,
   "metadata": {},
   "outputs": [],
   "source": [
    "lecture_to_merge = pd.DataFrame(columns=question_to_merge.columns)\n",
    "lecture_to_merge['content_id']=lecture_stage['content_id']\n",
    "lecture_to_merge['content_type_id']=1\n",
    "lecture_to_merge['part']=lecture_stage['part']\n",
    "content_to_merge=pd.concat([question_to_merge,lecture_to_merge])\n",
    "content_to_merge=content_to_merge.reset_index(drop = True)\n",
    "content_to_merge.to_pickle('content_to_merge.pkl')\n",
    "question_to_merge.drop(columns=['content_type_id'], inplace=True)"
   ]
  },
  {
   "cell_type": "markdown",
   "metadata": {},
   "source": [
    "# Processing Data with Bundle"
   ]
  },
  {
   "cell_type": "code",
   "execution_count": null,
   "metadata": {},
   "outputs": [],
   "source": [
    "for_mean=train_by_task[['user_id','task_container_id','content_id','nbr_question','prior_question_elapsed_time','prior_question_had_explanation']]"
   ]
  },
  {
   "cell_type": "code",
   "execution_count": null,
   "metadata": {},
   "outputs": [],
   "source": [
    "#for_mean=for_mean.merge(question_to_merge[['content_id','bundle_id','avg_bundle_elapsed_time','avg_bundle_had_exlanation','bundle_size']]\n",
    "#                        ,left_on='content_id',right_on='content_id',how='left')"
   ]
  },
  {
   "cell_type": "code",
   "execution_count": null,
   "metadata": {},
   "outputs": [],
   "source": [
    "for_mean['lagtime']=for_mean.groupby('user_id')['nbr_question'].shift()"
   ]
  },
  {
   "cell_type": "code",
   "execution_count": null,
   "metadata": {},
   "outputs": [],
   "source": [
    "for_mean['prior_container_elapsed_time']=for_mean['prior_question_elapsed_time']*for_mean['lagtime']\n",
    "for_mean['prior_container_had_explanation']=for_mean['prior_question_had_explanation']*for_mean['lagtime']\n"
   ]
  },
  {
   "cell_type": "code",
   "execution_count": null,
   "metadata": {},
   "outputs": [],
   "source": [
    "cum=for_mean.groupby('user_id').agg({'prior_container_had_explanation':'cumsum',\n",
    "                                     'prior_container_elapsed_time':'cumsum',\n",
    "                                    'lagtime':'cumsum'})"
   ]
  },
  {
   "cell_type": "code",
   "execution_count": null,
   "metadata": {},
   "outputs": [],
   "source": [
    "for_mean['mean_prior_elapsed_time']=cum['prior_container_elapsed_time']/cum['lagtime']\n",
    "for_mean['mean_prior_had_explanation']=cum['prior_container_had_explanation']/cum['lagtime']"
   ]
  },
  {
   "cell_type": "code",
   "execution_count": null,
   "metadata": {},
   "outputs": [],
   "source": [
    "for_mean['all_prior_had_explanation']=cum['prior_container_had_explanation']\n",
    "for_mean['prior_question_nbr']=cum['lagtime']"
   ]
  },
  {
   "cell_type": "code",
   "execution_count": null,
   "metadata": {},
   "outputs": [],
   "source": [
    "last_bundle = for_mean.drop_duplicates('user_id', keep = 'last')"
   ]
  },
  {
   "cell_type": "code",
   "execution_count": null,
   "metadata": {},
   "outputs": [],
   "source": [
    "last_prior_data=last_bundle[['user_id','task_container_id','nbr_question','prior_question_nbr','mean_prior_elapsed_time','mean_prior_had_explanation','all_prior_had_explanation']]\n",
    "last_prior_data.columns=['user_id','last_task_id','nbr_question_task','prior_question_nbr','mean_prior_elapsed_time','mean_prior_had_explanation','all_prior_had_explanation']\n",
    "\n",
    "#del for_mean\n",
    "del last_bundle,cum\n",
    "gc.collect()\n"
   ]
  },
  {
   "cell_type": "code",
   "execution_count": null,
   "metadata": {},
   "outputs": [],
   "source": [
    "\n",
    "last_prior_data.prior_question_nbr.fillna(0,inplace=True)\n",
    "last_prior_data.mean_prior_elapsed_time.fillna(0,inplace=True)\n",
    "last_prior_data.mean_prior_had_explanation.fillna(0,inplace=True)\n",
    "last_prior_data.all_prior_had_explanation.fillna(0,inplace=True)\n",
    "\n",
    "\n",
    "last_prior_data.to_pickle('last_prior_data.pkl')"
   ]
  },
  {
   "cell_type": "code",
   "execution_count": null,
   "metadata": {},
   "outputs": [],
   "source": [
    "\n",
    "del last_prior_data\n",
    "gc.collect()"
   ]
  },
  {
   "cell_type": "code",
   "execution_count": null,
   "metadata": {},
   "outputs": [],
   "source": [
    "#for_mean"
   ]
  },
  {
   "cell_type": "markdown",
   "metadata": {},
   "source": [
    "# User Data"
   ]
  },
  {
   "cell_type": "code",
   "execution_count": null,
   "metadata": {},
   "outputs": [],
   "source": [
    "train['lag_time'] = train.groupby('user_id')['answered_correctly'].shift()\n",
    "cum = train.groupby('user_id')['lagtime'].agg(['cumsum', 'cumcount'])\n",
    "train['user_correctness'] = cum['cumsum'] / cum['cumcount']\n",
    "train['answered_correctly_user'] = cum['cumsum']\n",
    "train['answered_user'] = cum['cumcount']\n",
    "train.drop(columns=['lag_time'], inplace=True)\n",
    "del cum\n",
    "gc.collect()"
   ]
  },
  {
   "cell_type": "code",
   "execution_count": null,
   "metadata": {},
   "outputs": [],
   "source": [
    "train['answered_incorrectly_user']=train['answered_user']-train['answered_correctly_user']\n"
   ]
  },
  {
   "cell_type": "code",
   "execution_count": null,
   "metadata": {},
   "outputs": [],
   "source": [
    "train=train.merge(for_mean[['user_id','task_container_id','mean_prior_elapsed_time','mean_prior_had_explanation','all_prior_had_explanation']],on=['user_id','task_container_id'],how='left')\n",
    "del for_mean\n",
    "del train_by_task\n",
    "#del last_bundle\n",
    "gc.collect()\n"
   ]
  },
  {
   "cell_type": "code",
   "execution_count": null,
   "metadata": {},
   "outputs": [],
   "source": [
    "m0 = train['answered_correctly']==0\n",
    "m1 = train['answered_correctly']==1\n",
    "m_null = train['prior_question_elapsed_time'].isnull()"
   ]
  },
  {
   "cell_type": "code",
   "execution_count": null,
   "metadata": {},
   "outputs": [],
   "source": [
    "train['prior_question_elapsed_time'] = train['prior_question_elapsed_time'].mask(m1 & m_null, 23789.365)\n",
    "train['prior_question_elapsed_time'] = train['prior_question_elapsed_time'].mask(m0 & m_null, 24131.963)"
   ]
  },
  {
   "cell_type": "code",
   "execution_count": null,
   "metadata": {},
   "outputs": [],
   "source": [
    "del m0,m1,m_null"
   ]
  },
  {
   "cell_type": "code",
   "execution_count": null,
   "metadata": {},
   "outputs": [],
   "source": [
    "train.answered_correctly_user.fillna(0,inplace=True)\n",
    "train.prior_question_had_explanation.fillna(False,inplace=True)\n",
    "train.user_correctness.fillna(0.680091,inplace=True)\n",
    "train.answered_incorrectly_user.fillna(0,inplace=True)\n",
    "train['mean_prior_elapsed_time'].fillna(23916, inplace=True)\n",
    "train['all_prior_had_explanation'].fillna(0, inplace=True)\n",
    "train['mean_prior_had_explanation'].fillna(0, inplace=True)\n"
   ]
  },
  {
   "cell_type": "code",
   "execution_count": null,
   "metadata": {},
   "outputs": [],
   "source": [
    "attemps=train.groupby(['user_id','content_id'],as_index=False).cumcount()"
   ]
  },
  {
   "cell_type": "code",
   "execution_count": null,
   "metadata": {},
   "outputs": [],
   "source": [
    "train['attempt']=attemps"
   ]
  },
  {
   "cell_type": "code",
   "execution_count": null,
   "metadata": {},
   "outputs": [],
   "source": [
    "train['answered_correctly_after_explanation']=train['answered_correctly']*train['prior_question_had_explanation']\n",
    "train['answered_incorrectly_after_explanation']=(1-train['answered_correctly'])*train['prior_question_had_explanation']\n",
    "train['answered_correctly_after_no_explanation']=train['answered_correctly']*(~ train['prior_question_had_explanation'])\n",
    "train['answered_incorrectly_after_no_explanation']=(1-train['answered_correctly'])*(~ train['prior_question_had_explanation'])\n"
   ]
  },
  {
   "cell_type": "code",
   "execution_count": null,
   "metadata": {},
   "outputs": [],
   "source": [
    "train[['lag_1','lag_2','lag_3','lag_4']] = train.groupby('user_id',as_index=False)['answered_correctly_after_explanation',\n",
    "                               'answered_incorrectly_after_explanation',\n",
    "                               'answered_correctly_after_no_explanation',\n",
    "                              'answered_incorrectly_after_no_explanation'].shift()\n"
   ]
  },
  {
   "cell_type": "code",
   "execution_count": null,
   "metadata": {},
   "outputs": [],
   "source": [
    "cum=train[['user_id','lag_1','lag_2','lag_3','lag_4']].groupby('user_id').agg('cumsum')"
   ]
  },
  {
   "cell_type": "code",
   "execution_count": null,
   "metadata": {},
   "outputs": [],
   "source": [
    "train['answered_correctly_after_explanation']=cum['lag_1']\n",
    "train['answered_incorrectly_after_explanation']=cum['lag_2']\n",
    "train['answered_correctly_after_no_explanation']=cum['lag_3']\n",
    "train['answered_incorrectly_after_no_explanation']=cum['lag_4']\n",
    "train.drop(columns=['lag_1','lag_2','lag_3','lag_4'], inplace=True)"
   ]
  },
  {
   "cell_type": "code",
   "execution_count": null,
   "metadata": {},
   "outputs": [],
   "source": [
    "train.answered_correctly_after_explanation.fillna(0,inplace=True)\n",
    "train.answered_incorrectly_after_explanation.fillna(0,inplace=True)\n",
    "train.answered_correctly_after_no_explanation.fillna(0,inplace=True)\n",
    "train.answered_incorrectly_after_no_explanation.fillna(0,inplace=True)\n"
   ]
  },
  {
   "cell_type": "code",
   "execution_count": null,
   "metadata": {},
   "outputs": [],
   "source": [
    "final_data_to_train=pd.merge(train,question_to_merge,left_on='content_id',right_on='content_id',how='left')\n",
    "del question_to_merge,cum\n",
    "del train\n",
    "del attemps\n",
    "gc.collect()"
   ]
  },
  {
   "cell_type": "code",
   "execution_count": null,
   "metadata": {},
   "outputs": [],
   "source": [
    "final_data_to_train['resid']=final_data_to_train['answered_correctly']-final_data_to_train['question_accuracy']"
   ]
  },
  {
   "cell_type": "code",
   "execution_count": null,
   "metadata": {},
   "outputs": [],
   "source": [
    "final_data_to_train['lag']= final_data_to_train.groupby('user_id')['resid'].shift()\n",
    "cum = final_data_to_train.groupby('user_id')['lag'].agg(['cumsum', 'cumcount'])\n",
    "final_data_to_train['user_residual'] = cum['cumsum'] / cum['cumcount']\n",
    "\n",
    "\n",
    "del cum\n",
    "gc.collect()"
   ]
  },
  {
   "cell_type": "code",
   "execution_count": null,
   "metadata": {},
   "outputs": [],
   "source": [
    "residual_data=final_data_to_train.groupby('user_id',as_index=False).agg({'resid':'mean'})\n",
    "residual_data.columns=['user_id','user_residual']\n"
   ]
  },
  {
   "cell_type": "code",
   "execution_count": null,
   "metadata": {},
   "outputs": [],
   "source": [
    "residual_data.to_pickle('residual_data.pkl')"
   ]
  },
  {
   "cell_type": "code",
   "execution_count": null,
   "metadata": {},
   "outputs": [],
   "source": [
    "residual_data_part=final_data_to_train.groupby(['user_id','part'],as_index=False).agg({'resid':'mean'})\n",
    "residual_data_part.columns=['user_id','part','user_residual_part']"
   ]
  },
  {
   "cell_type": "code",
   "execution_count": null,
   "metadata": {},
   "outputs": [],
   "source": [
    "residual_data_part.to_pickle('residual_data_part.pkl')"
   ]
  },
  {
   "cell_type": "code",
   "execution_count": null,
   "metadata": {},
   "outputs": [],
   "source": [
    "del residual_data,residual_data_part\n",
    "gc.collect()"
   ]
  },
  {
   "cell_type": "code",
   "execution_count": null,
   "metadata": {},
   "outputs": [],
   "source": [
    "final_data_to_train['lag']= final_data_to_train.groupby(['user_id','part'])['resid'].shift()\n",
    "cum = final_data_to_train.groupby(['user_id','part'])['lag'].agg(['cumsum', 'cumcount'])\n",
    "final_data_to_train['user_residual_part'] = cum['cumsum'] / cum['cumcount']\n",
    "\n",
    "\n",
    "del cum\n",
    "gc.collect()"
   ]
  },
  {
   "cell_type": "code",
   "execution_count": null,
   "metadata": {},
   "outputs": [],
   "source": [
    "final_data_to_train.drop(columns=['lag','resid'], inplace=True)\n",
    "gc.collect()"
   ]
  },
  {
   "cell_type": "code",
   "execution_count": null,
   "metadata": {},
   "outputs": [],
   "source": [
    "final_data_to_train.user_residual.fillna(0,inplace=True)\n",
    "final_data_to_train.user_residual_part.fillna(0,inplace=True)"
   ]
  },
  {
   "cell_type": "code",
   "execution_count": null,
   "metadata": {},
   "outputs": [],
   "source": [
    "final_data_to_train['hmean_user_content_accuracy'] = 2 * (\n",
    "        (final_data_to_train['user_correctness'] * final_data_to_train['question_accuracy']) /\n",
    "        (final_data_to_train['user_correctness'] + final_data_to_train['question_accuracy'])\n",
    "    )"
   ]
  },
  {
   "cell_type": "code",
   "execution_count": null,
   "metadata": {},
   "outputs": [],
   "source": [
    "final_data_to_train['part_lag'] = final_data_to_train.groupby(['user_id','part'])['answered_correctly'].shift()\n",
    "cum = final_data_to_train.groupby(['user_id','part'])['part_lag'].agg(['cumsum', 'cumcount'])\n",
    "final_data_to_train['user_part_correctness'] = cum['cumsum'] / cum['cumcount']\n",
    "final_data_to_train['answered_correctly_user_part'] = cum['cumsum']\n",
    "final_data_to_train['answered_user_part'] = cum['cumcount']\n",
    "final_data_to_train['answered_incorrectly_user_part']=final_data_to_train['answered_user_part']-final_data_to_train['answered_correctly_user_part']\n",
    "final_data_to_train.drop(columns=['part_lag'], inplace=True)\n",
    "del cum\n",
    "gc.collect()"
   ]
  },
  {
   "cell_type": "code",
   "execution_count": null,
   "metadata": {},
   "outputs": [],
   "source": [
    "final_data_to_train.answered_correctly_user_part.fillna(0,inplace=True)\n",
    "final_data_to_train.answered_user_part.fillna(0,inplace=True)\n",
    "final_data_to_train.user_part_correctness.fillna(0.680091,inplace=True)\n",
    "final_data_to_train.answered_incorrectly_user_part.fillna(0,inplace=True)\n",
    "\n",
    "\n"
   ]
  },
  {
   "cell_type": "code",
   "execution_count": null,
   "metadata": {},
   "outputs": [],
   "source": [
    "final_data_to_train.groupby('user_id')['prior_question_elapsed_time'].rolling(16).mean()"
   ]
  },
  {
   "cell_type": "code",
   "execution_count": null,
   "metadata": {},
   "outputs": [],
   "source": [
    "#final_data_to_train['roll_prior_elapsed_time']=final_data_to_train.groupby('user_id')['prior_question_elapsed_time'].rolling(16).mean()\n",
    "#final_data_to_train['roll_prior_lag_time']=final_data_to_train.groupby('user_id')['prior_lag_time'].rolling(16).mean()\n"
   ]
  },
  {
   "cell_type": "code",
   "execution_count": null,
   "metadata": {},
   "outputs": [],
   "source": [
    "final_data_to_train.head()"
   ]
  },
  {
   "cell_type": "code",
   "execution_count": null,
   "metadata": {},
   "outputs": [],
   "source": [
    "\"\"\"\n",
    "all_features=[\n",
    "    'user_id',\n",
    "    'content_id',\n",
    "    'task_container_id',\n",
    "    \n",
    "    # user features\n",
    "    'user_correctness',\n",
    "    'answered_correctly_user',\n",
    "    'answered_user',\n",
    "    'answered_incorrectly_user',\n",
    "    'user_residual',\n",
    "    'user_residual_part',\n",
    "    'prior_question_elapsed_time',\n",
    "    \n",
    "    #Lecture features\n",
    "    'lecture_seen',\n",
    "    'lecture_part_seen',\n",
    "    \n",
    "    'answered_correctly_after_explanation',\n",
    "    'answered_incorrectly_after_explanation',\n",
    "    'answered_correctly_after_no_explanation',\n",
    "    'answered_incorrectly_after_no_explanation',\n",
    "    \n",
    "    # content features\n",
    "    'question_accuracy',\n",
    "    'question_nbr_seen',\n",
    "    'avg_question_elapsed_time',\n",
    "    'avg_question_had_exlanation',\n",
    "\n",
    "    # part features\n",
    "    'part',\n",
    "    'h_part_accuracy',\n",
    "    'user_part_correctness',\n",
    "    'answered_correctly_user_part',\n",
    "    'answered_user_part',\n",
    "    'answered_incorrectly_user_part',\n",
    "    \n",
    "    # other features\n",
    "    'hmean_user_content_accuracy',\n",
    "    'attempt',\n",
    "    'prior_question_had_explanation'\n",
    "    ,'tags_label'\n",
    "    ,'answered_correctly'\n",
    "]\n",
    "data=final_data_to_train[all_features]\n",
    "del final_data_to_train\n",
    "gc.collect()\n",
    "\"\"\""
   ]
  },
  {
   "cell_type": "code",
   "execution_count": 98,
   "metadata": {},
   "outputs": [],
   "source": [
    "#data.to_pickle('data_to_train.pkl')"
   ]
  },
  {
   "cell_type": "code",
   "execution_count": 99,
   "metadata": {},
   "outputs": [],
   "source": [
    "#data=pd.read_pickle('data_to_train.pkl')"
   ]
  },
  {
   "cell_type": "code",
   "execution_count": 100,
   "metadata": {},
   "outputs": [
    {
     "data": {
      "text/plain": [
       "\" \\n    'answered_correctly_after_explanation',\\n    'answered_incorrectly_after_explanation',\\n    'answered_correctly_after_no_explanation',\\n    'answered_incorrectly_after_no_explanation',\\n    \\n    # content features\\n    'question_nbr_seen',\\n    'avg_question_elapsed_time',\\n\\n    # part features\\n\\n    'answered_correctly_user_part',\\n    'answered_user_part',\\n    'answered_incorrectly_user_part',\\n    \\n    # other features\\n    'attempt',\\n]\\n\""
      ]
     },
     "execution_count": 100,
     "metadata": {},
     "output_type": "execute_result"
    }
   ],
   "source": [
    "#min_max_features=[\n",
    "#    \n",
    "#    'answered_correctly_user',\n",
    "#    'answered_user',\n",
    "#    'answered_incorrectly_user',\n",
    "#        'prior_question_elapsed_time',\n",
    "#    \n",
    "#    #Lecture features\n",
    "#    'lecture_seen',\n",
    "#    'lecture_part_seen',\n",
    "\"\"\" \n",
    "    'answered_correctly_after_explanation',\n",
    "    'answered_incorrectly_after_explanation',\n",
    "    'answered_correctly_after_no_explanation',\n",
    "    'answered_incorrectly_after_no_explanation',\n",
    "    \n",
    "    # content features\n",
    "    'question_nbr_seen',\n",
    "    'avg_question_elapsed_time',\n",
    "\n",
    "    # part features\n",
    "\n",
    "    'answered_correctly_user_part',\n",
    "    'answered_user_part',\n",
    "    'answered_incorrectly_user_part',\n",
    "    \n",
    "    # other features\n",
    "    'attempt',\n",
    "]\n",
    "\"\"\""
   ]
  },
  {
   "cell_type": "code",
   "execution_count": 101,
   "metadata": {},
   "outputs": [
    {
     "data": {
      "text/plain": [
       "\"\\nfrom sklearn.preprocessing import MinMaxScaler\\nscaler = MinMaxScaler(feature_range=(0, 1))\\nX= scaler.fit_transform(data[min_max_features])\\nnorm_data=pd.DataFrame(X,columns=min_max_features)\\nnorm_data.fillna(0,inplace=True)\\n\\nnorm_data['prior_question_had_explanation']=data['prior_question_had_explanation'].astype(np.int8)\\nother_features=['user_id',\\n    'content_id',\\n    'task_container_id',\\n    'tags_label',\\n    'part',\\n\\n    'user_correctness' ,'user_residual','user_residual_part','h_part_accuracy','user_part_correctness','hmean_user_content_accuracy','question_accuracy','avg_question_had_exlanation',\\n        \\n    'answered_correctly']\\nnorm_data[other_features]=data[other_features]\\ncols=norm_data.select_dtypes(include=[np.float64]).columns\\nnorm_data[cols]=norm_data[cols].astype(np.float32)\\ngc.collect()\\ndef get_train_val_idxs(TRAIN_SIZE, VAL_SIZE):\\n    train_idxs = []\\n    val_idxs = []\\n    NEW_USER_FRAC = 1/4 # fraction of new users in \\n    np.random.seed(42)\\n    \\n    # create df with user_ids and indices\\n    df = norm_data[['user_id']]\\n    \\n\\n    df['index'] = df.index.values.astype(np.uint32)\\n    user_id_index = df.groupby('user_id')['index'].apply(np.array)\\n    \\n    # iterate over users in random order\\n    for indices in user_id_index.sample(user_id_index.size, random_state=42):\\n        if len(train_idxs) > TRAIN_SIZE:\\n            break\\n\\n        # fill validation data\\n        if len(val_idxs) < VAL_SIZE:\\n            # add new user\\n            if np.random.rand() < NEW_USER_FRAC:\\n                val_idxs += list(indices)\\n            # randomly split user between train and val otherwise\\n            else:\\n                offset = np.random.randint(0, indices.size)\\n                train_idxs += list(indices[:offset])\\n                val_idxs += list(indices[offset:])\\n        else:\\n            train_idxs += list(indices)\\n        \\n    return train_idxs, val_idxs\\n\\ntrain_idxs, val_idxs = get_train_val_idxs(int(50e6), 2.5e6)\\nprint(f'len train_idxs: {len(train_idxs)}, len validation_idxs: {len(val_idxs)}')\\ntrain=norm_data.loc[train_idxs]\\nval=norm_data.loc[val_idxs]\\ntrain.to_pickle('train.pkl')\\nval.to_pickle('val.pkl')\\n\""
      ]
     },
     "execution_count": 101,
     "metadata": {},
     "output_type": "execute_result"
    }
   ],
   "source": [
    "\"\"\"\n",
    "from sklearn.preprocessing import MinMaxScaler\n",
    "scaler = MinMaxScaler(feature_range=(0, 1))\n",
    "X= scaler.fit_transform(data[min_max_features])\n",
    "norm_data=pd.DataFrame(X,columns=min_max_features)\n",
    "norm_data.fillna(0,inplace=True)\n",
    "\n",
    "norm_data['prior_question_had_explanation']=data['prior_question_had_explanation'].astype(np.int8)\n",
    "other_features=['user_id',\n",
    "    'content_id',\n",
    "    'task_container_id',\n",
    "    'tags_label',\n",
    "    'part',\n",
    "\n",
    "    'user_correctness' ,'user_residual','user_residual_part','h_part_accuracy','user_part_correctness','hmean_user_content_accuracy','question_accuracy','avg_question_had_exlanation',\n",
    "        \n",
    "    'answered_correctly']\n",
    "norm_data[other_features]=data[other_features]\n",
    "cols=norm_data.select_dtypes(include=[np.float64]).columns\n",
    "norm_data[cols]=norm_data[cols].astype(np.float32)\n",
    "gc.collect()\n",
    "def get_train_val_idxs(TRAIN_SIZE, VAL_SIZE):\n",
    "    train_idxs = []\n",
    "    val_idxs = []\n",
    "    NEW_USER_FRAC = 1/4 # fraction of new users in \n",
    "    np.random.seed(42)\n",
    "    \n",
    "    # create df with user_ids and indices\n",
    "    df = norm_data[['user_id']]\n",
    "    \n",
    "\n",
    "    df['index'] = df.index.values.astype(np.uint32)\n",
    "    user_id_index = df.groupby('user_id')['index'].apply(np.array)\n",
    "    \n",
    "    # iterate over users in random order\n",
    "    for indices in user_id_index.sample(user_id_index.size, random_state=42):\n",
    "        if len(train_idxs) > TRAIN_SIZE:\n",
    "            break\n",
    "\n",
    "        # fill validation data\n",
    "        if len(val_idxs) < VAL_SIZE:\n",
    "            # add new user\n",
    "            if np.random.rand() < NEW_USER_FRAC:\n",
    "                val_idxs += list(indices)\n",
    "            # randomly split user between train and val otherwise\n",
    "            else:\n",
    "                offset = np.random.randint(0, indices.size)\n",
    "                train_idxs += list(indices[:offset])\n",
    "                val_idxs += list(indices[offset:])\n",
    "        else:\n",
    "            train_idxs += list(indices)\n",
    "        \n",
    "    return train_idxs, val_idxs\n",
    "\n",
    "train_idxs, val_idxs = get_train_val_idxs(int(50e6), 2.5e6)\n",
    "print(f'len train_idxs: {len(train_idxs)}, len validation_idxs: {len(val_idxs)}')\n",
    "train=norm_data.loc[train_idxs]\n",
    "val=norm_data.loc[val_idxs]\n",
    "train.to_pickle('train.pkl')\n",
    "val.to_pickle('val.pkl')\n",
    "\"\"\""
   ]
  },
  {
   "cell_type": "code",
   "execution_count": 102,
   "metadata": {},
   "outputs": [
    {
     "data": {
      "text/plain": [
       "Index(['row_id', 'timestamp', 'user_id', 'content_id', 'content_type_id',\n",
       "       'task_container_id', 'user_answer', 'answered_correctly',\n",
       "       'prior_question_elapsed_time', 'prior_question_had_explanation',\n",
       "       'lecture_seen', 'lecture_part_seen', 'lagtime', 'lagtime2', 'lagtime3',\n",
       "       'delta_prior_question_elapsed_time', 'question_elapsed_time',\n",
       "       'question_had_explanation', 'user_correctness',\n",
       "       'answered_correctly_user', 'answered_user', 'answered_incorrectly_user',\n",
       "       'mean_prior_elapsed_time', 'mean_prior_had_explanation',\n",
       "       'all_prior_had_explanation', 'attempt',\n",
       "       'answered_correctly_after_explanation',\n",
       "       'answered_incorrectly_after_explanation',\n",
       "       'answered_correctly_after_no_explanation',\n",
       "       'answered_incorrectly_after_no_explanation', 'bundle_id', 'part',\n",
       "       'tags', 'tags_label', 'question_accuracy', 'question_nbr_seen',\n",
       "       'avg_question_elapsed_time', 'avg_question_had_exlanation',\n",
       "       'part_accuracy', 'h_part_accuracy', 'user_residual',\n",
       "       'user_residual_part', 'hmean_user_content_accuracy',\n",
       "       'user_part_correctness', 'answered_correctly_user_part',\n",
       "       'answered_user_part', 'answered_incorrectly_user_part'],\n",
       "      dtype='object')"
      ]
     },
     "execution_count": 102,
     "metadata": {},
     "output_type": "execute_result"
    }
   ],
   "source": [
    "final_data_to_train.columns"
   ]
  },
  {
   "cell_type": "code",
   "execution_count": null,
   "metadata": {},
   "outputs": [],
   "source": [
    "\n",
    "\n",
    "\n"
   ]
  },
  {
   "cell_type": "code",
   "execution_count": 104,
   "metadata": {},
   "outputs": [],
   "source": [
    "\n",
    "\n",
    "user_id=np.array(final_data_to_train['user_id'].values,dtype=np.int32)\n",
    "content_id=np.array(final_data_to_train['content_id'].values,dtype=np.int16)\n",
    "task_container_id=np.array(final_data_to_train['task_container_id'].values,dtype=np.int16)\n",
    "\n",
    "user_correctness=np.array(final_data_to_train['user_correctness'].values,dtype=np.float64)\n",
    "answered_correctly_user=np.array(final_data_to_train['answered_correctly_user'].values,dtype=np.int16)\n",
    "answered_user=np.array(final_data_to_train['answered_user'].values,dtype=np.int16)\n",
    "answered_incorrectly_user=np.array(final_data_to_train['answered_incorrectly_user'].values,dtype=np.int16)\n",
    "user_residual=np.array(final_data_to_train['user_residual'].values,dtype=np.float64)\n",
    "attempt=np.array(final_data_to_train['attempt'].values,dtype=np.uint8)\n",
    "\n",
    "\n",
    "#question_Data\n",
    "question_accuracy=np.array(final_data_to_train['question_accuracy'].values,dtype=np.float64)\n",
    "part=np.array(final_data_to_train['part'].values,dtype=np.uint8)\n",
    "hmean_user_content_accuracy=np.array(final_data_to_train['hmean_user_content_accuracy'].values,dtype=np.float64)\n",
    "tags=np.array(final_data_to_train['tags'].values,dtype=np.str)\n",
    "tags_label=np.array(final_data_to_train['tags_label'].values,dtype=np.int16)\n",
    "question_nbr_seen=np.array(final_data_to_train['question_nbr_seen'].values,dtype=np.float64)\n",
    "avg_question_elapsed_time=np.array(final_data_to_train['avg_question_elapsed_time'].values,dtype=np.float64)\n",
    "avg_question_had_exlanation=np.array(final_data_to_train['avg_question_had_exlanation'].values,dtype=np.float64)\n",
    "part_accuracy=np.array(final_data_to_train['part_accuracy'].values,dtype=np.float64)\n",
    "h_part_accuracy=np.array(final_data_to_train['h_part_accuracy'].values,dtype=np.float64)\n",
    "\n",
    "#part data\n",
    "user_part_correctness=np.array(final_data_to_train['user_part_correctness'].values,dtype=np.float64)\n",
    "answered_correctly_user_part=np.array(final_data_to_train['answered_correctly_user_part'].values,dtype=np.int16)\n",
    "answered_user_part=np.array(final_data_to_train['answered_user_part'].values,dtype=np.int16)\n",
    "answered_incorrectly_user_part=np.array(final_data_to_train['answered_incorrectly_user_part'].values,dtype=np.int16)\n",
    "\n",
    "user_residual_part=np.array(final_data_to_train['user_residual_part'].values,dtype=np.float64)\n",
    "\n",
    "#Time Features\n",
    "prior_question_elapsed_time=np.array(final_data_to_train['prior_question_elapsed_time'].values,dtype=np.float64)\n",
    "#prior_lag_time=np.array(final_data_to_train['prior_lag_time'].values,dtype=np.float64)\n",
    "mean_prior_elapsed_time=np.array(final_data_to_train['mean_prior_elapsed_time'].values,dtype=np.float64)\n",
    "lagtime=np.array(final_data_to_train['lagtime'].values,dtype=np.float32)\n",
    "lagtime2=np.array(final_data_to_train['lagtime2'].values,dtype=np.float32)\n",
    "lagtime3=np.array(final_data_to_train['lagtime3'].values,dtype=np.float32)\n",
    "delta_prior_question_elapsed_time=np.array(final_data_to_train['delta_prior_question_elapsed_time'].values,dtype=np.int32)\n",
    "\n",
    "\n",
    "#Explanation Feature\n",
    "prior_question_had_explanation=np.array(final_data_to_train['prior_question_had_explanation'].values,dtype=np.bool)\n",
    "all_prior_had_explanation=np.array(final_data_to_train['all_prior_had_explanation'].values,dtype=np.int16)\n",
    "mean_prior_had_explanation=np.array(final_data_to_train['mean_prior_had_explanation'].values,dtype=np.float64)\n",
    "answered_correctly_after_explanation=np.array(final_data_to_train['answered_correctly_after_explanation'].values,dtype=np.int16)\n",
    "answered_incorrectly_after_explanation=np.array(final_data_to_train['answered_incorrectly_after_explanation'].values,dtype=np.int16)\n",
    "answered_correctly_after_no_explanation=np.array(final_data_to_train['answered_correctly_after_no_explanation'].values,dtype=np.int16)\n",
    "answered_incorrectly_after_no_explanation=np.array(final_data_to_train['answered_incorrectly_after_no_explanation'].values,dtype=np.int16)\n",
    "\n",
    "#Lecture Features\n",
    "\n",
    "lecture_seen=np.array(final_data_to_train['lecture_seen'].values,dtype=np.int16)\n",
    "lecture_part_seen=np.array(final_data_to_train['lecture_part_seen'].values,dtype=np.int16)\n",
    "\n",
    "#rolling data\n",
    "\n",
    "#roll_prior_elapsed_time=np.array(final_data_to_train['roll_prior_elapsed_time'].values,dtype=np.float64)\n",
    "#roll_prior_lag_time=np.array(final_data_to_train['roll_prior_lag_time'].values,dtype=np.float64)\n",
    "\n",
    "#target\n",
    "answered_correctly=np.array(final_data_to_train['answered_correctly'].values,dtype=np.uint8)"
   ]
  },
  {
   "cell_type": "code",
   "execution_count": 105,
   "metadata": {},
   "outputs": [
    {
     "data": {
      "text/plain": [
       "79"
      ]
     },
     "execution_count": 105,
     "metadata": {},
     "output_type": "execute_result"
    }
   ],
   "source": [
    "del final_data_to_train\n",
    "gc.collect()"
   ]
  },
  {
   "cell_type": "code",
   "execution_count": null,
   "metadata": {},
   "outputs": [],
   "source": []
  },
  {
   "cell_type": "code",
   "execution_count": 106,
   "metadata": {},
   "outputs": [],
   "source": [
    "np.savez_compressed('train_data',user_id=user_id\n",
    "                    ,content_id=content_id\n",
    "                    ,task_container_id=task_container_id\n",
    "                    ,lagtime=lagtime\n",
    "                    ,lagtime2=lagtime2\n",
    "                    ,lagtime3=lagtime3\n",
    "                    ,delta_prior_question_elapsed_time=delta_prior_question_elapsed_time\n",
    "                    \n",
    "                    \n",
    "                    ,prior_question_elapsed_time=prior_question_elapsed_time\n",
    "                     #,prior_lag_time=prior_lag_time\n",
    "                    ,user_correctness=user_correctness\n",
    "                    ,answered_correctly_user=answered_correctly_user\n",
    "                    ,answered_incorrectly_user=answered_incorrectly_user\n",
    "                    ,answered_user=answered_user\n",
    "                    ,user_residual=user_residual\n",
    "                    \n",
    "                    ,question_accuracy=question_accuracy\n",
    "                    ,part=part\n",
    "                    ,hmean_user_content_accuracy=hmean_user_content_accuracy\n",
    "                    ,attempt=attempt\n",
    "                    ,answered_correctly=answered_correctly\n",
    "                    ,tags=tags\n",
    "                    ,tags_label=tags_label\n",
    "                    ,question_nbr_seen=question_nbr_seen\n",
    "                    ,avg_question_elapsed_time=avg_question_elapsed_time\n",
    "                    ,avg_question_had_exlanation=avg_question_had_exlanation\n",
    "                    ,part_accuracy=part_accuracy\n",
    "                    ,h_part_accuracy=h_part_accuracy\n",
    "                    \n",
    "                    ,prior_question_had_explanation=prior_question_had_explanation\n",
    "                    ,user_part_correctness=user_part_correctness\n",
    "                    ,answered_correctly_user_part=answered_correctly_user_part\n",
    "                    ,answered_user_part=answered_user_part\n",
    "                    ,answered_incorrectly_user_part=answered_incorrectly_user_part\n",
    "                    ,user_residual_part=user_residual_part\n",
    "                    \n",
    "                    ,mean_prior_elapsed_time=mean_prior_elapsed_time\n",
    "                    \n",
    "                    ,all_prior_had_explanation=all_prior_had_explanation\n",
    "                    ,mean_prior_had_explanation=mean_prior_had_explanation\n",
    "                    ,answered_correctly_after_explanation=answered_correctly_after_explanation\n",
    "                    ,answered_incorrectly_after_explanation=answered_incorrectly_after_explanation\n",
    "                    ,answered_correctly_after_no_explanation=answered_correctly_after_no_explanation\n",
    "                    ,answered_incorrectly_after_no_explanation=answered_incorrectly_after_no_explanation\n",
    "                    \n",
    "                    ,lecture_seen=lecture_seen\n",
    "                    ,lecture_part_seen=lecture_part_seen\n",
    "                    \n",
    "                    #,roll_prior_elapsed_time=roll_prior_elapsed_time\n",
    "                    #,roll_prior_lag_time=roll_prior_lag_time\n",
    "                    #,user_id=test['user_id']\n",
    "                   )"
   ]
  },
  {
   "cell_type": "code",
   "execution_count": 107,
   "metadata": {},
   "outputs": [],
   "source": [
    "#np.savez_compressed('light_train_data',user_id=user_id\n",
    "#                    ,content_id=content_id\n",
    "#                    ,answered_correctly=answered_correctly\n",
    "#                    ,part=part\n",
    "#                    ,prior_question_elapsed_time=prior_question_elapsed_time\n",
    "#                    ,prior_question_had_explanation=prior_question_had_explanation\n",
    "#                    #,user_id=test['user_id']\n",
    "#                   )"
   ]
  },
  {
   "cell_type": "code",
   "execution_count": 2,
   "metadata": {},
   "outputs": [],
   "source": [
    "VERSION = 'V0_lags_time'\n",
    "NUM_BOOST_ROUND = 1500\n",
    "VERBOSE_EVAL = 20\n",
    "METRICS = ['auc']\n",
    "N_ROWS = 99271300\n",
    "\n",
    "def get_index_np():\n",
    "    return np.arange(N_ROWS) # speeds up dataframe creation"
   ]
  },
  {
   "cell_type": "code",
   "execution_count": 3,
   "metadata": {},
   "outputs": [],
   "source": [
    "FEATURES=np.load('train_data.npz')"
   ]
  },
  {
   "cell_type": "code",
   "execution_count": 4,
   "metadata": {},
   "outputs": [],
   "source": [
    "#FEATURES['hmean_user_part_accuracy']"
   ]
  },
  {
   "cell_type": "code",
   "execution_count": 5,
   "metadata": {},
   "outputs": [],
   "source": [
    "#nbr_answred_correctly_after_explanation\n",
    "#nbr_answred_incorrectly_after_explanation\n",
    "given_features = [\n",
    "    'prior_question_elapsed_time',\n",
    "]\n",
    "\n",
    "deduced_features = [\n",
    "    #'prior_lag_time',\n",
    "    'lagtime',\n",
    "    'lagtime2',\n",
    "    'lagtime3',\n",
    "    'delta_prior_question_elapsed_time',\n",
    "     #'roll_prior_elapsed_time',\n",
    "    #'prior_question_elapsed_time',\n",
    "    #'roll_prior_lag_time',\n",
    "    'content_id',\n",
    "    'task_container_id',\n",
    "    # user features\n",
    "    'user_correctness',\n",
    "    'answered_correctly_user',\n",
    "    'answered_user',\n",
    "    'answered_incorrectly_user',\n",
    "    'user_residual',\n",
    "    'user_residual_part',\n",
    "    #'user_residual_after_exp',\n",
    "    #'user_residual_no_exp',\n",
    "    #'residual_bundle_elapsed_time',\n",
    "    #'residual_user_had_explanation',\n",
    "    \n",
    "    #Lecture features\n",
    "    'lecture_seen',\n",
    "    'lecture_part_seen',\n",
    "    \n",
    "    'mean_prior_elapsed_time',\n",
    "    'mean_prior_had_explanation',\n",
    "    'all_prior_had_explanation',\n",
    "    'answered_correctly_after_explanation',\n",
    "    'answered_incorrectly_after_explanation',\n",
    "    'answered_correctly_after_no_explanation',\n",
    "    'answered_incorrectly_after_no_explanation',\n",
    "    \n",
    "    # content features\n",
    "    'question_accuracy',\n",
    "    'question_nbr_seen',\n",
    "    'avg_question_elapsed_time',\n",
    "    'avg_question_had_exlanation',\n",
    "    #'avg_bundle_elapsed_time',\n",
    "    #'bundle_size',\n",
    "    \n",
    "    # part features\n",
    "    'part',\n",
    "    'h_part_accuracy',\n",
    "    'user_part_correctness',\n",
    "    'answered_correctly_user_part',\n",
    "    'answered_user_part',\n",
    "    'answered_incorrectly_user_part',\n",
    "    #'hmean_user_part_accuracy',\n",
    "    \n",
    "    # other features\n",
    "    'hmean_user_content_accuracy',\n",
    "    #'h_residual_user',\n",
    "    #'h_prior_elapsed_time',\n",
    "    #'h_prior_had_explanation',\n",
    "    'attempt',\n",
    "    'prior_question_had_explanation'\n",
    "    ,'tags_label'\n",
    "]\n",
    "\n",
    "features = given_features + deduced_features\n",
    "\n",
    "target = 'answered_correctly'\n",
    "\n",
    "# add categorical features indices\n",
    "categorical_feature = ['part', 'tags', 'tags_label', 'prior_question_had_explanation','content_id','task_container_id']#,'bundle_size'\n",
    "categorical_feature_idxs = []\n",
    "for v in categorical_feature:\n",
    "    try:\n",
    "        categorical_feature_idxs.append(features.index(v))\n",
    "    except:\n",
    "        pass"
   ]
  },
  {
   "cell_type": "code",
   "execution_count": 6,
   "metadata": {},
   "outputs": [
    {
     "data": {
      "text/plain": [
       "[26, 35, 34, 5, 6]"
      ]
     },
     "execution_count": 6,
     "metadata": {},
     "output_type": "execute_result"
    }
   ],
   "source": [
    "categorical_feature_idxs"
   ]
  },
  {
   "cell_type": "code",
   "execution_count": 7,
   "metadata": {},
   "outputs": [
    {
     "name": "stdout",
     "output_type": "stream",
     "text": [
      "len train_idxs: 79271178, len validation_idxs: 20000122\n"
     ]
    }
   ],
   "source": [
    "def get_train_val_idxs(TRAIN_SIZE, VAL_SIZE):\n",
    "    train_idxs = []\n",
    "    val_idxs = []\n",
    "    NEW_USER_FRAC = 1/4 # fraction of new users in \n",
    "    np.random.seed(42)\n",
    "    \n",
    "    # create df with user_ids and indices\n",
    "    df = pd.DataFrame(index=get_index_np())\n",
    "    for col in ['user_id']:\n",
    "        df[col] = FEATURES[col]\n",
    "\n",
    "    df['index'] = df.index.values.astype(np.uint32)\n",
    "    user_id_index = df.groupby('user_id')['index'].apply(np.array)\n",
    "    \n",
    "    # iterate over users in random order\n",
    "    for indices in user_id_index.sample(user_id_index.size, random_state=42):\n",
    "        if len(train_idxs) > TRAIN_SIZE:\n",
    "            break\n",
    "\n",
    "        # fill validation data\n",
    "        if len(val_idxs) < VAL_SIZE:\n",
    "            # add new user\n",
    "            if np.random.rand() < NEW_USER_FRAC:\n",
    "                val_idxs += list(indices)\n",
    "            # randomly split user between train and val otherwise\n",
    "            else:\n",
    "                offset = np.random.randint(0, indices.size)\n",
    "                train_idxs += list(indices[:offset])\n",
    "                val_idxs += list(indices[offset:])\n",
    "        else:\n",
    "            train_idxs += list(indices)\n",
    "        \n",
    "    return train_idxs, val_idxs\n",
    "\n",
    "train_idxs, val_idxs = get_train_val_idxs(int(80e6), 20e6)\n",
    "print(f'len train_idxs: {len(train_idxs)}, len validation_idxs: {len(val_idxs)}')"
   ]
  },
  {
   "cell_type": "code",
   "execution_count": 8,
   "metadata": {},
   "outputs": [
    {
     "data": {
      "application/vnd.jupyter.widget-view+json": {
       "model_id": "93d252b5a9714c1d80a74ddef3a62dfb",
       "version_major": 2,
       "version_minor": 0
      },
      "text/plain": [
       "HBox(children=(HTML(value=''), FloatProgress(value=0.0, max=36.0), HTML(value='')))"
      ]
     },
     "metadata": {},
     "output_type": "display_data"
    },
    {
     "name": "stdout",
     "output_type": "stream",
     "text": [
      "\n"
     ]
    }
   ],
   "source": [
    "def make_x_y(FEATURES, train_idxs, val_idxs):\n",
    "    # create numpy arrays\n",
    "    X_train = np.ndarray(shape=(len(train_idxs), len(features)), dtype=np.float32)\n",
    "    X_val = np.ndarray(shape=(len(val_idxs), len(features)), dtype=np.float32)\n",
    "    \n",
    "    # now fill them up\n",
    "    for idx, feature in enumerate(tqdm(features)):\n",
    "        #if feature in ['sdkfjlds','fsdjlflds']:\n",
    "        X_train[:,idx] = FEATURES[feature][train_idxs].astype(np.float32)\n",
    "        X_val[:,idx] = FEATURES[feature][val_idxs].astype(np.float32)\n",
    "        #else:\n",
    "        #    X_train[:,idx] = FEATURES2[feature][train_idxs].astype(np.float32)\n",
    "        #    X_val[:,idx] = FEATURES2[feature][val_idxs].astype(np.float32)\n",
    "    \n",
    "    # add the target\n",
    "    y_train = FEATURES[target][train_idxs].astype(np.int8)\n",
    "    y_val = FEATURES[target][val_idxs].astype(np.int8)\n",
    "                         \n",
    "    return X_train, y_train, X_val, y_val\n",
    "    \n",
    "X_train, y_train, X_val, y_val = make_x_y(FEATURES, train_idxs, val_idxs)"
   ]
  },
  {
   "cell_type": "code",
   "execution_count": 9,
   "metadata": {},
   "outputs": [
    {
     "data": {
      "text/plain": [
       "(79271178, 36)"
      ]
     },
     "execution_count": 9,
     "metadata": {},
     "output_type": "execute_result"
    }
   ],
   "source": [
    "X_train.shape"
   ]
  },
  {
   "cell_type": "code",
   "execution_count": 10,
   "metadata": {},
   "outputs": [
    {
     "data": {
      "text/html": [
       "<div>\n",
       "<style scoped>\n",
       "    .dataframe tbody tr th:only-of-type {\n",
       "        vertical-align: middle;\n",
       "    }\n",
       "\n",
       "    .dataframe tbody tr th {\n",
       "        vertical-align: top;\n",
       "    }\n",
       "\n",
       "    .dataframe thead th {\n",
       "        text-align: right;\n",
       "    }\n",
       "</style>\n",
       "<table border=\"1\" class=\"dataframe\">\n",
       "  <thead>\n",
       "    <tr style=\"text-align: right;\">\n",
       "      <th></th>\n",
       "      <th>prior_question_elapsed_time</th>\n",
       "      <th>lagtime</th>\n",
       "      <th>lagtime2</th>\n",
       "      <th>lagtime3</th>\n",
       "      <th>delta_prior_question_elapsed_time</th>\n",
       "      <th>content_id</th>\n",
       "      <th>task_container_id</th>\n",
       "      <th>user_correctness</th>\n",
       "      <th>answered_correctly_user</th>\n",
       "      <th>answered_user</th>\n",
       "      <th>...</th>\n",
       "      <th>part</th>\n",
       "      <th>h_part_accuracy</th>\n",
       "      <th>user_part_correctness</th>\n",
       "      <th>answered_correctly_user_part</th>\n",
       "      <th>answered_user_part</th>\n",
       "      <th>answered_incorrectly_user_part</th>\n",
       "      <th>hmean_user_content_accuracy</th>\n",
       "      <th>attempt</th>\n",
       "      <th>prior_question_had_explanation</th>\n",
       "      <th>tags_label</th>\n",
       "    </tr>\n",
       "  </thead>\n",
       "  <tbody>\n",
       "    <tr>\n",
       "      <th>0</th>\n",
       "      <td>24131.962891</td>\n",
       "      <td>5.678317</td>\n",
       "      <td>11.214070</td>\n",
       "      <td>16.669001</td>\n",
       "      <td>-8.0</td>\n",
       "      <td>5355.0</td>\n",
       "      <td>0.0</td>\n",
       "      <td>inf</td>\n",
       "      <td>5.0</td>\n",
       "      <td>0.0</td>\n",
       "      <td>...</td>\n",
       "      <td>5.0</td>\n",
       "      <td>0.506103</td>\n",
       "      <td>0.680091</td>\n",
       "      <td>0.0</td>\n",
       "      <td>0.0</td>\n",
       "      <td>0.0</td>\n",
       "      <td>NaN</td>\n",
       "      <td>0.0</td>\n",
       "      <td>0.0</td>\n",
       "      <td>993.0</td>\n",
       "    </tr>\n",
       "    <tr>\n",
       "      <th>1</th>\n",
       "      <td>31000.000000</td>\n",
       "      <td>0.010142</td>\n",
       "      <td>11.214070</td>\n",
       "      <td>16.669001</td>\n",
       "      <td>-8.0</td>\n",
       "      <td>5802.0</td>\n",
       "      <td>1.0</td>\n",
       "      <td>5.688459</td>\n",
       "      <td>5.0</td>\n",
       "      <td>1.0</td>\n",
       "      <td>...</td>\n",
       "      <td>5.0</td>\n",
       "      <td>0.676726</td>\n",
       "      <td>0.000000</td>\n",
       "      <td>0.0</td>\n",
       "      <td>1.0</td>\n",
       "      <td>1.0</td>\n",
       "      <td>1.340398</td>\n",
       "      <td>0.0</td>\n",
       "      <td>0.0</td>\n",
       "      <td>1218.0</td>\n",
       "    </tr>\n",
       "    <tr>\n",
       "      <th>2</th>\n",
       "      <td>31000.000000</td>\n",
       "      <td>0.017319</td>\n",
       "      <td>0.027461</td>\n",
       "      <td>16.669001</td>\n",
       "      <td>0.0</td>\n",
       "      <td>8473.0</td>\n",
       "      <td>2.0</td>\n",
       "      <td>2.852889</td>\n",
       "      <td>5.0</td>\n",
       "      <td>2.0</td>\n",
       "      <td>...</td>\n",
       "      <td>5.0</td>\n",
       "      <td>0.569146</td>\n",
       "      <td>0.000000</td>\n",
       "      <td>0.0</td>\n",
       "      <td>2.0</td>\n",
       "      <td>2.0</td>\n",
       "      <td>0.898693</td>\n",
       "      <td>0.0</td>\n",
       "      <td>0.0</td>\n",
       "      <td>1106.0</td>\n",
       "    </tr>\n",
       "    <tr>\n",
       "      <th>3</th>\n",
       "      <td>59000.000000</td>\n",
       "      <td>0.018821</td>\n",
       "      <td>0.036140</td>\n",
       "      <td>0.046282</td>\n",
       "      <td>28000.0</td>\n",
       "      <td>1287.0</td>\n",
       "      <td>3.0</td>\n",
       "      <td>1.908200</td>\n",
       "      <td>5.0</td>\n",
       "      <td>3.0</td>\n",
       "      <td>...</td>\n",
       "      <td>2.0</td>\n",
       "      <td>0.796376</td>\n",
       "      <td>0.680091</td>\n",
       "      <td>0.0</td>\n",
       "      <td>0.0</td>\n",
       "      <td>0.0</td>\n",
       "      <td>1.231235</td>\n",
       "      <td>0.0</td>\n",
       "      <td>0.0</td>\n",
       "      <td>531.0</td>\n",
       "    </tr>\n",
       "    <tr>\n",
       "      <th>4</th>\n",
       "      <td>32000.000000</td>\n",
       "      <td>0.006449</td>\n",
       "      <td>0.025271</td>\n",
       "      <td>0.042589</td>\n",
       "      <td>-27000.0</td>\n",
       "      <td>217.0</td>\n",
       "      <td>4.0</td>\n",
       "      <td>1.432762</td>\n",
       "      <td>5.0</td>\n",
       "      <td>4.0</td>\n",
       "      <td>...</td>\n",
       "      <td>2.0</td>\n",
       "      <td>0.686717</td>\n",
       "      <td>0.000000</td>\n",
       "      <td>0.0</td>\n",
       "      <td>1.0</td>\n",
       "      <td>1.0</td>\n",
       "      <td>0.909374</td>\n",
       "      <td>0.0</td>\n",
       "      <td>0.0</td>\n",
       "      <td>622.0</td>\n",
       "    </tr>\n",
       "    <tr>\n",
       "      <th>5</th>\n",
       "      <td>19000.000000</td>\n",
       "      <td>0.005939</td>\n",
       "      <td>0.012388</td>\n",
       "      <td>0.031210</td>\n",
       "      <td>-13000.0</td>\n",
       "      <td>378.0</td>\n",
       "      <td>5.0</td>\n",
       "      <td>1.147398</td>\n",
       "      <td>5.0</td>\n",
       "      <td>5.0</td>\n",
       "      <td>...</td>\n",
       "      <td>2.0</td>\n",
       "      <td>0.801355</td>\n",
       "      <td>0.000000</td>\n",
       "      <td>0.0</td>\n",
       "      <td>2.0</td>\n",
       "      <td>2.0</td>\n",
       "      <td>1.022357</td>\n",
       "      <td>0.0</td>\n",
       "      <td>0.0</td>\n",
       "      <td>1384.0</td>\n",
       "    </tr>\n",
       "    <tr>\n",
       "      <th>6</th>\n",
       "      <td>17000.000000</td>\n",
       "      <td>0.005596</td>\n",
       "      <td>0.011535</td>\n",
       "      <td>0.017984</td>\n",
       "      <td>-2000.0</td>\n",
       "      <td>398.0</td>\n",
       "      <td>6.0</td>\n",
       "      <td>0.957097</td>\n",
       "      <td>5.0</td>\n",
       "      <td>6.0</td>\n",
       "      <td>...</td>\n",
       "      <td>2.0</td>\n",
       "      <td>0.667740</td>\n",
       "      <td>0.333333</td>\n",
       "      <td>1.0</td>\n",
       "      <td>3.0</td>\n",
       "      <td>2.0</td>\n",
       "      <td>0.760758</td>\n",
       "      <td>0.0</td>\n",
       "      <td>0.0</td>\n",
       "      <td>1061.0</td>\n",
       "    </tr>\n",
       "    <tr>\n",
       "      <th>7</th>\n",
       "      <td>17000.000000</td>\n",
       "      <td>115.389259</td>\n",
       "      <td>115.394859</td>\n",
       "      <td>115.400795</td>\n",
       "      <td>0.0</td>\n",
       "      <td>7863.0</td>\n",
       "      <td>7.0</td>\n",
       "      <td>17.304548</td>\n",
       "      <td>121.0</td>\n",
       "      <td>7.0</td>\n",
       "      <td>...</td>\n",
       "      <td>1.0</td>\n",
       "      <td>0.813264</td>\n",
       "      <td>0.680091</td>\n",
       "      <td>0.0</td>\n",
       "      <td>0.0</td>\n",
       "      <td>0.0</td>\n",
       "      <td>1.702431</td>\n",
       "      <td>0.0</td>\n",
       "      <td>0.0</td>\n",
       "      <td>327.0</td>\n",
       "    </tr>\n",
       "    <tr>\n",
       "      <th>8</th>\n",
       "      <td>26000.000000</td>\n",
       "      <td>0.016654</td>\n",
       "      <td>115.405914</td>\n",
       "      <td>115.411514</td>\n",
       "      <td>9000.0</td>\n",
       "      <td>7983.0</td>\n",
       "      <td>8.0</td>\n",
       "      <td>15.143562</td>\n",
       "      <td>121.0</td>\n",
       "      <td>8.0</td>\n",
       "      <td>...</td>\n",
       "      <td>1.0</td>\n",
       "      <td>0.713973</td>\n",
       "      <td>1.000000</td>\n",
       "      <td>1.0</td>\n",
       "      <td>1.0</td>\n",
       "      <td>0.0</td>\n",
       "      <td>1.311442</td>\n",
       "      <td>0.0</td>\n",
       "      <td>1.0</td>\n",
       "      <td>255.0</td>\n",
       "    </tr>\n",
       "    <tr>\n",
       "      <th>9</th>\n",
       "      <td>26000.000000</td>\n",
       "      <td>0.015789</td>\n",
       "      <td>0.032442</td>\n",
       "      <td>115.421707</td>\n",
       "      <td>0.0</td>\n",
       "      <td>7908.0</td>\n",
       "      <td>9.0</td>\n",
       "      <td>13.462698</td>\n",
       "      <td>121.0</td>\n",
       "      <td>9.0</td>\n",
       "      <td>...</td>\n",
       "      <td>1.0</td>\n",
       "      <td>0.672245</td>\n",
       "      <td>0.500000</td>\n",
       "      <td>1.0</td>\n",
       "      <td>2.0</td>\n",
       "      <td>1.0</td>\n",
       "      <td>1.171536</td>\n",
       "      <td>0.0</td>\n",
       "      <td>1.0</td>\n",
       "      <td>333.0</td>\n",
       "    </tr>\n",
       "  </tbody>\n",
       "</table>\n",
       "<p>10 rows × 36 columns</p>\n",
       "</div>"
      ],
      "text/plain": [
       "   prior_question_elapsed_time     lagtime    lagtime2    lagtime3  \\\n",
       "0                 24131.962891    5.678317   11.214070   16.669001   \n",
       "1                 31000.000000    0.010142   11.214070   16.669001   \n",
       "2                 31000.000000    0.017319    0.027461   16.669001   \n",
       "3                 59000.000000    0.018821    0.036140    0.046282   \n",
       "4                 32000.000000    0.006449    0.025271    0.042589   \n",
       "5                 19000.000000    0.005939    0.012388    0.031210   \n",
       "6                 17000.000000    0.005596    0.011535    0.017984   \n",
       "7                 17000.000000  115.389259  115.394859  115.400795   \n",
       "8                 26000.000000    0.016654  115.405914  115.411514   \n",
       "9                 26000.000000    0.015789    0.032442  115.421707   \n",
       "\n",
       "   delta_prior_question_elapsed_time  content_id  task_container_id  \\\n",
       "0                               -8.0      5355.0                0.0   \n",
       "1                               -8.0      5802.0                1.0   \n",
       "2                                0.0      8473.0                2.0   \n",
       "3                            28000.0      1287.0                3.0   \n",
       "4                           -27000.0       217.0                4.0   \n",
       "5                           -13000.0       378.0                5.0   \n",
       "6                            -2000.0       398.0                6.0   \n",
       "7                                0.0      7863.0                7.0   \n",
       "8                             9000.0      7983.0                8.0   \n",
       "9                                0.0      7908.0                9.0   \n",
       "\n",
       "   user_correctness  answered_correctly_user  answered_user  ...  part  \\\n",
       "0               inf                      5.0            0.0  ...   5.0   \n",
       "1          5.688459                      5.0            1.0  ...   5.0   \n",
       "2          2.852889                      5.0            2.0  ...   5.0   \n",
       "3          1.908200                      5.0            3.0  ...   2.0   \n",
       "4          1.432762                      5.0            4.0  ...   2.0   \n",
       "5          1.147398                      5.0            5.0  ...   2.0   \n",
       "6          0.957097                      5.0            6.0  ...   2.0   \n",
       "7         17.304548                    121.0            7.0  ...   1.0   \n",
       "8         15.143562                    121.0            8.0  ...   1.0   \n",
       "9         13.462698                    121.0            9.0  ...   1.0   \n",
       "\n",
       "   h_part_accuracy  user_part_correctness  answered_correctly_user_part  \\\n",
       "0         0.506103               0.680091                           0.0   \n",
       "1         0.676726               0.000000                           0.0   \n",
       "2         0.569146               0.000000                           0.0   \n",
       "3         0.796376               0.680091                           0.0   \n",
       "4         0.686717               0.000000                           0.0   \n",
       "5         0.801355               0.000000                           0.0   \n",
       "6         0.667740               0.333333                           1.0   \n",
       "7         0.813264               0.680091                           0.0   \n",
       "8         0.713973               1.000000                           1.0   \n",
       "9         0.672245               0.500000                           1.0   \n",
       "\n",
       "   answered_user_part  answered_incorrectly_user_part  \\\n",
       "0                 0.0                             0.0   \n",
       "1                 1.0                             1.0   \n",
       "2                 2.0                             2.0   \n",
       "3                 0.0                             0.0   \n",
       "4                 1.0                             1.0   \n",
       "5                 2.0                             2.0   \n",
       "6                 3.0                             2.0   \n",
       "7                 0.0                             0.0   \n",
       "8                 1.0                             0.0   \n",
       "9                 2.0                             1.0   \n",
       "\n",
       "   hmean_user_content_accuracy  attempt  prior_question_had_explanation  \\\n",
       "0                          NaN      0.0                             0.0   \n",
       "1                     1.340398      0.0                             0.0   \n",
       "2                     0.898693      0.0                             0.0   \n",
       "3                     1.231235      0.0                             0.0   \n",
       "4                     0.909374      0.0                             0.0   \n",
       "5                     1.022357      0.0                             0.0   \n",
       "6                     0.760758      0.0                             0.0   \n",
       "7                     1.702431      0.0                             0.0   \n",
       "8                     1.311442      0.0                             1.0   \n",
       "9                     1.171536      0.0                             1.0   \n",
       "\n",
       "   tags_label  \n",
       "0       993.0  \n",
       "1      1218.0  \n",
       "2      1106.0  \n",
       "3       531.0  \n",
       "4       622.0  \n",
       "5      1384.0  \n",
       "6      1061.0  \n",
       "7       327.0  \n",
       "8       255.0  \n",
       "9       333.0  \n",
       "\n",
       "[10 rows x 36 columns]"
      ]
     },
     "execution_count": 10,
     "metadata": {},
     "output_type": "execute_result"
    }
   ],
   "source": [
    "pd.DataFrame(X_train[:10], columns=features)"
   ]
  },
  {
   "cell_type": "code",
   "execution_count": 11,
   "metadata": {},
   "outputs": [
    {
     "data": {
      "text/plain": [
       "['Booster',\n",
       " 'CVBooster',\n",
       " 'Dataset',\n",
       " 'LGBMClassifier',\n",
       " 'LGBMModel',\n",
       " 'LGBMRanker',\n",
       " 'LGBMRegressor',\n",
       " '__all__',\n",
       " '__builtins__',\n",
       " '__cached__',\n",
       " '__doc__',\n",
       " '__file__',\n",
       " '__loader__',\n",
       " '__name__',\n",
       " '__package__',\n",
       " '__path__',\n",
       " '__spec__',\n",
       " '__version__',\n",
       " 'absolute_import',\n",
       " 'basic',\n",
       " 'callback',\n",
       " 'compat',\n",
       " 'create_tree_digraph',\n",
       " 'cv',\n",
       " 'dir_path',\n",
       " 'early_stopping',\n",
       " 'engine',\n",
       " 'libpath',\n",
       " 'os',\n",
       " 'plot_importance',\n",
       " 'plot_metric',\n",
       " 'plot_split_value_histogram',\n",
       " 'plot_tree',\n",
       " 'plotting',\n",
       " 'print_evaluation',\n",
       " 'record_evaluation',\n",
       " 'reset_parameter',\n",
       " 'sklearn',\n",
       " 'sys',\n",
       " 'train',\n",
       " 'version_file',\n",
       " 'warnings']"
      ]
     },
     "execution_count": 11,
     "metadata": {},
     "output_type": "execute_result"
    }
   ],
   "source": [
    "import lightgbm as lgb\n",
    "dir(lgb)\n"
   ]
  },
  {
   "cell_type": "code",
   "execution_count": 12,
   "metadata": {},
   "outputs": [],
   "source": [
    "import lightgbm as lgb\n",
    "# make train and validation dataset\n",
    "train_data = lgb.Dataset(\n",
    "    data = X_train,\n",
    "    label = y_train,\n",
    "    categorical_feature = None,\n",
    ")\n",
    "\n",
    "val_data = lgb.Dataset(\n",
    "    data = X_val,\n",
    "    label = y_val,\n",
    "    categorical_feature = None,\n",
    ")"
   ]
  },
  {
   "cell_type": "code",
   "execution_count": 13,
   "metadata": {},
   "outputs": [],
   "source": [
    "lgbm_params = {\n",
    "    'objective': 'binary',\n",
    "    'metric': METRICS,\n",
    "    'max_bin': 800,\n",
    "    'learning_rate': 0.0374001767,\n",
    "    'boosting_type': 'gbdt',\n",
    "    'num_leaves': 199,\n",
    "    'max_depth': 112\n",
    "}\n",
    "\n",
    "\n",
    "  \n",
    "\n",
    "#params = {\n",
    "#    'objective': 'binary',\n",
    "#    'max_bin': 800,\n",
    "##    'learning_rate': 0.0374001767,\n",
    "#    'boosting_type': 'gbdt',\n",
    "#    'num_leaves': 199,\n",
    "#    'max_depth': 112\n",
    "    \n",
    "#}"
   ]
  },
  {
   "cell_type": "code",
   "execution_count": null,
   "metadata": {
    "scrolled": false
   },
   "outputs": [
    {
     "name": "stdout",
     "output_type": "stream",
     "text": [
      "[LightGBM] [Info] Number of positive: 52005800, number of negative: 27265378\n",
      "[LightGBM] [Warning] Auto-choosing row-wise multi-threading, the overhead of testing was 2.757145 seconds.\n",
      "You can set `force_row_wise=true` to remove the overhead.\n",
      "And if memory is not enough, you can set `force_col_wise=true`.\n",
      "[LightGBM] [Info] Total Bins 39176\n",
      "[LightGBM] [Info] Number of data points in the train set: 79271178, number of used features: 36\n"
     ]
    },
    {
     "name": "stderr",
     "output_type": "stream",
     "text": [
      "/Users/refoufiaimen/opt/anaconda3/lib/python3.8/site-packages/lightgbm/basic.py:1286: UserWarning: Overriding the parameters from Reference Dataset.\n",
      "  warnings.warn('Overriding the parameters from Reference Dataset.')\n",
      "/Users/refoufiaimen/opt/anaconda3/lib/python3.8/site-packages/lightgbm/basic.py:1098: UserWarning: categorical_column in param dict is overridden.\n",
      "  warnings.warn('{} in param dict is overridden.'.format(cat_alias))\n"
     ]
    },
    {
     "name": "stdout",
     "output_type": "stream",
     "text": [
      "[LightGBM] [Info] [binary:BoostFromScore]: pavg=0.656049 -> initscore=0.645738\n",
      "[LightGBM] [Info] Start training from score 0.645738\n",
      "Training until validation scores don't improve for 10 rounds\n",
      "[20]\tvalid_0's auc: 0.772155\n",
      "[40]\tvalid_0's auc: 0.774714\n",
      "[60]\tvalid_0's auc: 0.777163\n",
      "[80]\tvalid_0's auc: 0.779433\n",
      "[100]\tvalid_0's auc: 0.781307\n",
      "[120]\tvalid_0's auc: 0.782968\n",
      "[140]\tvalid_0's auc: 0.784209\n",
      "[160]\tvalid_0's auc: 0.78509\n",
      "[180]\tvalid_0's auc: 0.785837\n",
      "[200]\tvalid_0's auc: 0.786436\n",
      "[220]\tvalid_0's auc: 0.786945\n",
      "[240]\tvalid_0's auc: 0.787383\n",
      "[260]\tvalid_0's auc: 0.787773\n",
      "[280]\tvalid_0's auc: 0.788125\n",
      "[300]\tvalid_0's auc: 0.788418\n",
      "[320]\tvalid_0's auc: 0.788645\n",
      "[340]\tvalid_0's auc: 0.788817\n",
      "[360]\tvalid_0's auc: 0.788971\n",
      "[380]\tvalid_0's auc: 0.789108\n",
      "[400]\tvalid_0's auc: 0.789239\n",
      "[420]\tvalid_0's auc: 0.789343\n",
      "[440]\tvalid_0's auc: 0.789435\n",
      "[460]\tvalid_0's auc: 0.789514\n",
      "[480]\tvalid_0's auc: 0.789611\n",
      "[500]\tvalid_0's auc: 0.789672\n",
      "[520]\tvalid_0's auc: 0.789741\n",
      "[540]\tvalid_0's auc: 0.789803\n",
      "[560]\tvalid_0's auc: 0.78986\n",
      "[580]\tvalid_0's auc: 0.789906\n",
      "[600]\tvalid_0's auc: 0.789939\n",
      "[620]\tvalid_0's auc: 0.789975\n",
      "[640]\tvalid_0's auc: 0.790019\n",
      "[660]\tvalid_0's auc: 0.790051\n"
     ]
    }
   ],
   "source": [
    "%%time\n",
    "def train():\n",
    "    evals_result = {}\n",
    "    model = lgb.train(\n",
    "        params = lgbm_params,\n",
    "        train_set = train_data,\n",
    "        valid_sets = [val_data],#train_data\n",
    "        num_boost_round = NUM_BOOST_ROUND,\n",
    "        verbose_eval = VERBOSE_EVAL,\n",
    "        evals_result = evals_result,\n",
    "        early_stopping_rounds = 10, \n",
    "        categorical_feature = categorical_feature_idxs,\n",
    "        feature_name = features,\n",
    "    )\n",
    "\n",
    "    # save model\n",
    "    model.save_model(f'model_{VERSION}_{NUM_BOOST_ROUND}.lgb')\n",
    "    \n",
    "    return model, evals_result\n",
    "    \n",
    "model, evals_result = train()"
   ]
  },
  {
   "cell_type": "code",
   "execution_count": null,
   "metadata": {},
   "outputs": [],
   "source": []
  },
  {
   "cell_type": "code",
   "execution_count": null,
   "metadata": {},
   "outputs": [],
   "source": []
  },
  {
   "cell_type": "code",
   "execution_count": null,
   "metadata": {},
   "outputs": [],
   "source": []
  },
  {
   "cell_type": "code",
   "execution_count": 121,
   "metadata": {},
   "outputs": [
    {
     "data": {
      "image/png": "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\n",
      "text/plain": [
       "<Figure size 1440x576 with 1 Axes>"
      ]
     },
     "metadata": {
      "needs_background": "light"
     },
     "output_type": "display_data"
    }
   ],
   "source": [
    "# plots the training history\n",
    "def plot_history(evals_result):\n",
    "    for metric in METRICS:\n",
    "        plt.figure(figsize=(20,8))\n",
    "        \n",
    "        for key in evals_result.keys():\n",
    "            history_len = len(evals_result.get(key)[metric])\n",
    "            history = evals_result.get(key)[metric]\n",
    "            x_axis = np.arange(1, history_len + 1)\n",
    "            plt.plot(x_axis, history, label=key)\n",
    "        \n",
    "        x_ticks = list(filter(lambda e: (e % (history_len // 100 * 10) == 0) or e == 1, x_axis))\n",
    "        plt.xticks(x_ticks, fontsize=12)\n",
    "        plt.yticks(fontsize=12)\n",
    "\n",
    "        plt.title(f'{metric.upper()} History of training', fontsize=18);\n",
    "        plt.xlabel('EPOCH', fontsize=16)\n",
    "        plt.ylabel(metric.upper(), fontsize=16)\n",
    "        \n",
    "        if metric in ['auc']:\n",
    "            plt.legend(loc='upper left', fontsize=14)\n",
    "        else:\n",
    "            plt.legend(loc='upper right', fontsize=14)\n",
    "        plt.grid()\n",
    "        plt.show()\n",
    "\n",
    "plot_history(evals_result)"
   ]
  },
  {
   "cell_type": "code",
   "execution_count": 122,
   "metadata": {},
   "outputs": [
    {
     "data": {
      "image/png": "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\n",
      "text/plain": [
       "<Figure size 1440x576 with 1 Axes>"
      ]
     },
     "metadata": {
      "needs_background": "light"
     },
     "output_type": "display_data"
    },
    {
     "data": {
      "image/png": "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\n",
      "text/plain": [
       "<Figure size 1440x576 with 1 Axes>"
      ]
     },
     "metadata": {
      "needs_background": "light"
     },
     "output_type": "display_data"
    }
   ],
   "source": [
    "import seaborn as sns\n",
    "# plot the feature importance in terms of gain and split\n",
    "def show_feature_importances(model, importance_type, max_num_features=10**10):\n",
    "    feature_importances = pd.DataFrame()\n",
    "    feature_importances['feature'] = features\n",
    "    feature_importances['value'] = pd.DataFrame(model.feature_importance(importance_type))\n",
    "    feature_importances = feature_importances.sort_values(by='value', ascending=False) # sort feature importance\n",
    "    feature_importances.to_csv(f'feature_importances_{importance_type}.csv') # write feature importance to csv\n",
    "    feature_importances = feature_importances[:max_num_features] # only show max_num_features\n",
    "    \n",
    "    plt.figure(figsize=(20, 8))\n",
    "    plt.xlim([0, feature_importances.value.max()*1.1])\n",
    "    plt.title(f'Feature {importance_type}', fontsize=18);\n",
    "    sns.barplot(data=feature_importances, x='value', y='feature', palette='rocket');\n",
    "    for idx, v in enumerate(feature_importances.value):\n",
    "        plt.text(v, idx, \"  {:.2e}\".format(v))\n",
    "\n",
    "show_feature_importances(model, 'gain')\n",
    "show_feature_importances(model, 'split')"
   ]
  },
  {
   "cell_type": "code",
   "execution_count": null,
   "metadata": {},
   "outputs": [],
   "source": []
  },
  {
   "cell_type": "code",
   "execution_count": null,
   "metadata": {},
   "outputs": [],
   "source": [
    "import xgboost as xgb\n",
    "\n",
    "\n",
    "\n",
    "dtrain = xgb.DMatrix(X_train, label=y_train)\n",
    "dvalid = xgb.DMatrix(X_val, label=y_val)\n",
    "\n",
    "\n",
    "params = {\n",
    "    'eta': 0.25,\n",
    "    'max_depth': 10,\n",
    "    'max_bin': 512,\n",
    "    'tree_method': 'hist',\n",
    "    'grow_policy': 'lossguide',\n",
    "    'sampling_method': 'gradient_based',\n",
    "    'objective': 'binary:logistic',\n",
    "    'eval_metric': ['error', 'logloss', 'auc']\n",
    "}"
   ]
  },
  {
   "cell_type": "code",
   "execution_count": null,
   "metadata": {},
   "outputs": [],
   "source": [
    "evals_result = {}\n",
    "model = xgb.train(params=params, dtrain=dtrain, num_boost_round=400,\n",
    "                  evals=[(dtrain, 'train'), (dvalid, 'valid')],\n",
    "                  evals_result=evals_result, early_stopping_rounds=10)"
   ]
  },
  {
   "cell_type": "code",
   "execution_count": null,
   "metadata": {},
   "outputs": [],
   "source": [
    "model.save_model('model_V0.xgb')"
   ]
  },
  {
   "cell_type": "markdown",
   "metadata": {},
   "source": [
    "# Transformer"
   ]
  },
  {
   "cell_type": "code",
   "execution_count": 12,
   "metadata": {},
   "outputs": [],
   "source": [
    "from sklearn.preprocessing import MinMaxScaler\n",
    "scaler = MinMaxScaler(feature_range=(0, 1))\n",
    "X_scl = scaler.fit_transform(X_train)\n",
    "X_val_scl = scaler.transform(X_val)\n",
    "X_train_rshp = X_scl.reshape(X_scl.shape[0], X_scl.shape[1],1)\n",
    "X_test_rshp = X_val_scl.reshape(X_val_scl.shape[0], X_val_scl.shape[1],1)"
   ]
  },
  {
   "cell_type": "code",
   "execution_count": 13,
   "metadata": {},
   "outputs": [
    {
     "data": {
      "text/plain": [
       "(50004332, 27, 1)"
      ]
     },
     "execution_count": 13,
     "metadata": {},
     "output_type": "execute_result"
    }
   ],
   "source": [
    "X_train_rshp.shape"
   ]
  },
  {
   "cell_type": "code",
   "execution_count": 16,
   "metadata": {},
   "outputs": [],
   "source": [
    "import tensorflow as tf\n",
    "from tensorflow.keras import Sequential\n",
    "from tensorflow.keras.layers import BatchNormalization,Dropout,Dense,Flatten,Conv1D\n",
    "from tensorflow.keras.optimizers import Adam\n",
    "from tensorflow import keras\n",
    "from keras.metrics import BinaryAccuracy\n",
    "from keras import backend as K\n",
    "from tensorflow.keras import layers"
   ]
  },
  {
   "cell_type": "code",
   "execution_count": 17,
   "metadata": {},
   "outputs": [],
   "source": [
    "class MultiHeadSelfAttention(layers.Layer):\n",
    "    def __init__(self, embed_dim, num_heads=8):\n",
    "        super(MultiHeadSelfAttention, self).__init__()\n",
    "        self.embed_dim = embed_dim\n",
    "        self.num_heads = num_heads\n",
    "        if embed_dim % num_heads != 0:\n",
    "            raise ValueError(\n",
    "                f\"embedding dimension = {embed_dim} should be divisible by number of heads = {num_heads}\"\n",
    "            )\n",
    "        self.projection_dim = embed_dim // num_heads\n",
    "        self.query_dense = layers.Dense(embed_dim)\n",
    "        self.key_dense = layers.Dense(embed_dim)\n",
    "        self.value_dense = layers.Dense(embed_dim)\n",
    "        self.combine_heads = layers.Dense(embed_dim)\n",
    "\n",
    "    def attention(self, query, key, value):\n",
    "        score = tf.matmul(query, key, transpose_b=True)\n",
    "        dim_key = tf.cast(tf.shape(key)[-1], tf.float32)\n",
    "        scaled_score = score / tf.math.sqrt(dim_key)\n",
    "        weights = tf.nn.softmax(scaled_score, axis=-1)\n",
    "        output = tf.matmul(weights, value)\n",
    "        return output, weights\n",
    "\n",
    "    def separate_heads(self, x, batch_size):\n",
    "        x = tf.reshape(x, (batch_size, -1, self.num_heads, self.projection_dim))\n",
    "        return tf.transpose(x, perm=[0, 2, 1, 3])\n",
    "\n",
    "    def call(self, inputs):\n",
    "        # x.shape = [batch_size, seq_len, embedding_dim]\n",
    "        batch_size = tf.shape(inputs)[0]\n",
    "        query = self.query_dense(inputs)  # (batch_size, seq_len, embed_dim)\n",
    "        key = self.key_dense(inputs)  # (batch_size, seq_len, embed_dim)\n",
    "        value = self.value_dense(inputs)  # (batch_size, seq_len, embed_dim)\n",
    "        query = self.separate_heads(\n",
    "            query, batch_size\n",
    "        )  # (batch_size, num_heads, seq_len, projection_dim)\n",
    "        key = self.separate_heads(\n",
    "            key, batch_size\n",
    "        )  # (batch_size, num_heads, seq_len, projection_dim)\n",
    "        value = self.separate_heads(\n",
    "            value, batch_size\n",
    "        )  # (batch_size, num_heads, seq_len, projection_dim)\n",
    "        attention, weights = self.attention(query, key, value)\n",
    "        attention = tf.transpose(\n",
    "            attention, perm=[0, 2, 1, 3]\n",
    "        )  # (batch_size, seq_len, num_heads, projection_dim)\n",
    "        concat_attention = tf.reshape(\n",
    "            attention, (batch_size, -1, self.embed_dim)\n",
    "        )  # (batch_size, seq_len, embed_dim)\n",
    "        output = self.combine_heads(\n",
    "            concat_attention\n",
    "        )  # (batch_size, seq_len, embed_dim)\n",
    "        return output"
   ]
  },
  {
   "cell_type": "code",
   "execution_count": 18,
   "metadata": {},
   "outputs": [],
   "source": [
    "class TransformerBlock(layers.Layer):\n",
    "    def __init__(self, embed_dim, num_heads, ff_dim, rate=0.2):\n",
    "        super(TransformerBlock, self).__init__()\n",
    "        self.att = MultiHeadSelfAttention(embed_dim, num_heads)\n",
    "        self.ffn = keras.Sequential(\n",
    "            [layers.Dense(ff_dim, activation=\"relu\"), layers.Dense(embed_dim),]\n",
    "        )\n",
    "        self.layernorm1 = layers.LayerNormalization(epsilon=1e-6)\n",
    "        self.layernorm2 = layers.LayerNormalization(epsilon=1e-6)\n",
    "        self.dropout1 = layers.Dropout(rate)\n",
    "        self.dropout2 = layers.Dropout(rate)\n",
    "\n",
    "    def call(self, inputs, training):\n",
    "        attn_output = self.att(inputs)\n",
    "        attn_output = self.dropout1(attn_output, training=training)\n",
    "        out1 = self.layernorm1(inputs + attn_output)\n",
    "        ffn_output = self.ffn(out1)\n",
    "        ffn_output = self.dropout2(ffn_output, training=training)\n",
    "        return self.layernorm2(out1 + ffn_output)"
   ]
  },
  {
   "cell_type": "code",
   "execution_count": 19,
   "metadata": {},
   "outputs": [],
   "source": [
    "class TokenAndPositionEmbedding(layers.Layer):\n",
    "    def __init__(self, maxlen, vocab_size, embed_dim):\n",
    "        super(TokenAndPositionEmbedding, self).__init__()\n",
    "        self.token_emb = layers.Embedding(input_dim=vocab_size, output_dim=embed_dim)\n",
    "        self.pos_emb = layers.Embedding(input_dim=maxlen, output_dim=embed_dim)\n",
    "\n",
    "    def call(self, x):\n",
    "        maxlen = tf.shape(x)[-1]\n",
    "        positions = tf.range(start=0, limit=maxlen, delta=1)\n",
    "        positions = self.pos_emb(positions)\n",
    "        x = self.token_emb(x)\n",
    "        return x + positions"
   ]
  },
  {
   "cell_type": "code",
   "execution_count": 20,
   "metadata": {},
   "outputs": [],
   "source": [
    "maxlen = 32 \n",
    "X_learn = keras.preprocessing.sequence.pad_sequences(X_train_rshp, maxlen=maxlen)\n",
    "X_test = keras.preprocessing.sequence.pad_sequences(X_test_rshp, maxlen=maxlen)"
   ]
  },
  {
   "cell_type": "code",
   "execution_count": 21,
   "metadata": {},
   "outputs": [
    {
     "data": {
      "text/plain": [
       "(50004332, 32, 1)"
      ]
     },
     "execution_count": 21,
     "metadata": {},
     "output_type": "execute_result"
    }
   ],
   "source": [
    "X_learn.shape"
   ]
  },
  {
   "cell_type": "code",
   "execution_count": 22,
   "metadata": {},
   "outputs": [],
   "source": [
    "embed_dim = 32  # Embedding size for each token\n",
    "num_heads = 8  # Number of attention heads\n",
    "ff_dim = 64  # Hidden layer size in feed forward network inside transformer\n",
    "vocab_size = 50000\n",
    "inputs = layers.Input(shape=(maxlen,))\n",
    "embedding_layer = TokenAndPositionEmbedding(maxlen, vocab_size, embed_dim)\n",
    "x = embedding_layer(inputs)\n",
    "transformer_block = TransformerBlock(embed_dim, num_heads, ff_dim)\n",
    "x = transformer_block(x)\n",
    "x = layers.GlobalAveragePooling1D()(x)\n",
    "x = layers.Dropout(0.2)(x)\n",
    "x = layers.Dense(20, activation=\"relu\")(x)\n",
    "x = layers.Dropout(0.2)(x)\n",
    "outputs = layers.Dense(1, activation=\"sigmoid\")(x)\n",
    "\n",
    "model = keras.Model(inputs=inputs, outputs=outputs)"
   ]
  },
  {
   "cell_type": "code",
   "execution_count": 23,
   "metadata": {},
   "outputs": [],
   "source": [
    "from keras.callbacks import EarlyStopping\n",
    "es = EarlyStopping(monitor='val_auc', mode='max',patience=10)"
   ]
  },
  {
   "cell_type": "code",
   "execution_count": 24,
   "metadata": {},
   "outputs": [
    {
     "name": "stdout",
     "output_type": "stream",
     "text": [
      "Model: \"functional_1\"\n",
      "_________________________________________________________________\n",
      "Layer (type)                 Output Shape              Param #   \n",
      "=================================================================\n",
      "input_1 (InputLayer)         [(None, 32)]              0         \n",
      "_________________________________________________________________\n",
      "token_and_position_embedding (None, 32, 32)            1601024   \n",
      "_________________________________________________________________\n",
      "transformer_block (Transform (None, 32, 32)            8544      \n",
      "_________________________________________________________________\n",
      "global_average_pooling1d (Gl (None, 32)                0         \n",
      "_________________________________________________________________\n",
      "dropout_2 (Dropout)          (None, 32)                0         \n",
      "_________________________________________________________________\n",
      "dense_6 (Dense)              (None, 20)                660       \n",
      "_________________________________________________________________\n",
      "dropout_3 (Dropout)          (None, 20)                0         \n",
      "_________________________________________________________________\n",
      "dense_7 (Dense)              (None, 1)                 21        \n",
      "=================================================================\n",
      "Total params: 1,610,249\n",
      "Trainable params: 1,610,249\n",
      "Non-trainable params: 0\n",
      "_________________________________________________________________\n"
     ]
    }
   ],
   "source": [
    "model.summary()"
   ]
  },
  {
   "cell_type": "code",
   "execution_count": 25,
   "metadata": {},
   "outputs": [
    {
     "data": {
      "text/plain": [
       "'2.3.0'"
      ]
     },
     "execution_count": 25,
     "metadata": {},
     "output_type": "execute_result"
    }
   ],
   "source": [
    "tf.__version__"
   ]
  },
  {
   "cell_type": "code",
   "execution_count": 26,
   "metadata": {},
   "outputs": [
    {
     "name": "stdout",
     "output_type": "stream",
     "text": [
      "Epoch 1/25\n",
      "136/687 [====>.........................] - ETA: 2:10:14 - loss: 0.6561 - auc: 0.5001"
     ]
    },
    {
     "ename": "KeyboardInterrupt",
     "evalue": "",
     "output_type": "error",
     "traceback": [
      "\u001b[0;31m---------------------------------------------------------------------------\u001b[0m",
      "\u001b[0;31mKeyboardInterrupt\u001b[0m                         Traceback (most recent call last)",
      "\u001b[0;32m<ipython-input-26-b73ebf05b81c>\u001b[0m in \u001b[0;36m<module>\u001b[0;34m\u001b[0m\n\u001b[1;32m      1\u001b[0m \u001b[0mmodel\u001b[0m\u001b[0;34m.\u001b[0m\u001b[0mcompile\u001b[0m\u001b[0;34m(\u001b[0m\u001b[0;34m\"adam\"\u001b[0m\u001b[0;34m,\u001b[0m \u001b[0;34m\"binary_crossentropy\"\u001b[0m\u001b[0;34m,\u001b[0m \u001b[0mmetrics\u001b[0m\u001b[0;34m=\u001b[0m\u001b[0;34m[\u001b[0m\u001b[0mtf\u001b[0m\u001b[0;34m.\u001b[0m\u001b[0mkeras\u001b[0m\u001b[0;34m.\u001b[0m\u001b[0mmetrics\u001b[0m\u001b[0;34m.\u001b[0m\u001b[0mAUC\u001b[0m\u001b[0;34m(\u001b[0m\u001b[0;34m)\u001b[0m\u001b[0;34m]\u001b[0m\u001b[0;34m)\u001b[0m\u001b[0;34m\u001b[0m\u001b[0;34m\u001b[0m\u001b[0m\n\u001b[1;32m      2\u001b[0m \u001b[0;34m\u001b[0m\u001b[0m\n\u001b[0;32m----> 3\u001b[0;31m \u001b[0mhistory\u001b[0m \u001b[0;34m=\u001b[0m \u001b[0mmodel\u001b[0m\u001b[0;34m.\u001b[0m\u001b[0mfit\u001b[0m\u001b[0;34m(\u001b[0m\u001b[0mX_learn\u001b[0m\u001b[0;34m,\u001b[0m \u001b[0my_train\u001b[0m\u001b[0;34m,\u001b[0m \u001b[0mepochs\u001b[0m\u001b[0;34m=\u001b[0m\u001b[0;36m25\u001b[0m\u001b[0;34m,\u001b[0m\u001b[0mverbose\u001b[0m\u001b[0;34m=\u001b[0m\u001b[0;36m1\u001b[0m\u001b[0;34m,\u001b[0m\u001b[0mvalidation_split\u001b[0m\u001b[0;34m=\u001b[0m\u001b[0;36m0.1\u001b[0m\u001b[0;34m,\u001b[0m\u001b[0mbatch_size\u001b[0m\u001b[0;34m=\u001b[0m\u001b[0;36m65536\u001b[0m\u001b[0;34m,\u001b[0m\u001b[0mcallbacks\u001b[0m\u001b[0;34m=\u001b[0m\u001b[0;34m[\u001b[0m\u001b[0mes\u001b[0m\u001b[0;34m]\u001b[0m\u001b[0;34m)\u001b[0m\u001b[0;34m\u001b[0m\u001b[0;34m\u001b[0m\u001b[0m\n\u001b[0m\u001b[1;32m      4\u001b[0m \u001b[0;31m#validation_data=(X_test, y_val)\u001b[0m\u001b[0;34m\u001b[0m\u001b[0;34m\u001b[0m\u001b[0;34m\u001b[0m\u001b[0m\n",
      "\u001b[0;32m~/miniconda3/envs/riid/lib/python3.7/site-packages/tensorflow/python/keras/engine/training.py\u001b[0m in \u001b[0;36m_method_wrapper\u001b[0;34m(self, *args, **kwargs)\u001b[0m\n\u001b[1;32m    106\u001b[0m   \u001b[0;32mdef\u001b[0m \u001b[0m_method_wrapper\u001b[0m\u001b[0;34m(\u001b[0m\u001b[0mself\u001b[0m\u001b[0;34m,\u001b[0m \u001b[0;34m*\u001b[0m\u001b[0margs\u001b[0m\u001b[0;34m,\u001b[0m \u001b[0;34m**\u001b[0m\u001b[0mkwargs\u001b[0m\u001b[0;34m)\u001b[0m\u001b[0;34m:\u001b[0m\u001b[0;34m\u001b[0m\u001b[0;34m\u001b[0m\u001b[0m\n\u001b[1;32m    107\u001b[0m     \u001b[0;32mif\u001b[0m \u001b[0;32mnot\u001b[0m \u001b[0mself\u001b[0m\u001b[0;34m.\u001b[0m\u001b[0m_in_multi_worker_mode\u001b[0m\u001b[0;34m(\u001b[0m\u001b[0;34m)\u001b[0m\u001b[0;34m:\u001b[0m  \u001b[0;31m# pylint: disable=protected-access\u001b[0m\u001b[0;34m\u001b[0m\u001b[0;34m\u001b[0m\u001b[0m\n\u001b[0;32m--> 108\u001b[0;31m       \u001b[0;32mreturn\u001b[0m \u001b[0mmethod\u001b[0m\u001b[0;34m(\u001b[0m\u001b[0mself\u001b[0m\u001b[0;34m,\u001b[0m \u001b[0;34m*\u001b[0m\u001b[0margs\u001b[0m\u001b[0;34m,\u001b[0m \u001b[0;34m**\u001b[0m\u001b[0mkwargs\u001b[0m\u001b[0;34m)\u001b[0m\u001b[0;34m\u001b[0m\u001b[0;34m\u001b[0m\u001b[0m\n\u001b[0m\u001b[1;32m    109\u001b[0m \u001b[0;34m\u001b[0m\u001b[0m\n\u001b[1;32m    110\u001b[0m     \u001b[0;31m# Running inside `run_distribute_coordinator` already.\u001b[0m\u001b[0;34m\u001b[0m\u001b[0;34m\u001b[0m\u001b[0;34m\u001b[0m\u001b[0m\n",
      "\u001b[0;32m~/miniconda3/envs/riid/lib/python3.7/site-packages/tensorflow/python/keras/engine/training.py\u001b[0m in \u001b[0;36mfit\u001b[0;34m(self, x, y, batch_size, epochs, verbose, callbacks, validation_split, validation_data, shuffle, class_weight, sample_weight, initial_epoch, steps_per_epoch, validation_steps, validation_batch_size, validation_freq, max_queue_size, workers, use_multiprocessing)\u001b[0m\n\u001b[1;32m   1096\u001b[0m                 batch_size=batch_size):\n\u001b[1;32m   1097\u001b[0m               \u001b[0mcallbacks\u001b[0m\u001b[0;34m.\u001b[0m\u001b[0mon_train_batch_begin\u001b[0m\u001b[0;34m(\u001b[0m\u001b[0mstep\u001b[0m\u001b[0;34m)\u001b[0m\u001b[0;34m\u001b[0m\u001b[0;34m\u001b[0m\u001b[0m\n\u001b[0;32m-> 1098\u001b[0;31m               \u001b[0mtmp_logs\u001b[0m \u001b[0;34m=\u001b[0m \u001b[0mtrain_function\u001b[0m\u001b[0;34m(\u001b[0m\u001b[0miterator\u001b[0m\u001b[0;34m)\u001b[0m\u001b[0;34m\u001b[0m\u001b[0;34m\u001b[0m\u001b[0m\n\u001b[0m\u001b[1;32m   1099\u001b[0m               \u001b[0;32mif\u001b[0m \u001b[0mdata_handler\u001b[0m\u001b[0;34m.\u001b[0m\u001b[0mshould_sync\u001b[0m\u001b[0;34m:\u001b[0m\u001b[0;34m\u001b[0m\u001b[0;34m\u001b[0m\u001b[0m\n\u001b[1;32m   1100\u001b[0m                 \u001b[0mcontext\u001b[0m\u001b[0;34m.\u001b[0m\u001b[0masync_wait\u001b[0m\u001b[0;34m(\u001b[0m\u001b[0;34m)\u001b[0m\u001b[0;34m\u001b[0m\u001b[0;34m\u001b[0m\u001b[0m\n",
      "\u001b[0;32m~/miniconda3/envs/riid/lib/python3.7/site-packages/tensorflow/python/eager/def_function.py\u001b[0m in \u001b[0;36m__call__\u001b[0;34m(self, *args, **kwds)\u001b[0m\n\u001b[1;32m    778\u001b[0m       \u001b[0;32melse\u001b[0m\u001b[0;34m:\u001b[0m\u001b[0;34m\u001b[0m\u001b[0;34m\u001b[0m\u001b[0m\n\u001b[1;32m    779\u001b[0m         \u001b[0mcompiler\u001b[0m \u001b[0;34m=\u001b[0m \u001b[0;34m\"nonXla\"\u001b[0m\u001b[0;34m\u001b[0m\u001b[0;34m\u001b[0m\u001b[0m\n\u001b[0;32m--> 780\u001b[0;31m         \u001b[0mresult\u001b[0m \u001b[0;34m=\u001b[0m \u001b[0mself\u001b[0m\u001b[0;34m.\u001b[0m\u001b[0m_call\u001b[0m\u001b[0;34m(\u001b[0m\u001b[0;34m*\u001b[0m\u001b[0margs\u001b[0m\u001b[0;34m,\u001b[0m \u001b[0;34m**\u001b[0m\u001b[0mkwds\u001b[0m\u001b[0;34m)\u001b[0m\u001b[0;34m\u001b[0m\u001b[0;34m\u001b[0m\u001b[0m\n\u001b[0m\u001b[1;32m    781\u001b[0m \u001b[0;34m\u001b[0m\u001b[0m\n\u001b[1;32m    782\u001b[0m       \u001b[0mnew_tracing_count\u001b[0m \u001b[0;34m=\u001b[0m \u001b[0mself\u001b[0m\u001b[0;34m.\u001b[0m\u001b[0m_get_tracing_count\u001b[0m\u001b[0;34m(\u001b[0m\u001b[0;34m)\u001b[0m\u001b[0;34m\u001b[0m\u001b[0;34m\u001b[0m\u001b[0m\n",
      "\u001b[0;32m~/miniconda3/envs/riid/lib/python3.7/site-packages/tensorflow/python/eager/def_function.py\u001b[0m in \u001b[0;36m_call\u001b[0;34m(self, *args, **kwds)\u001b[0m\n\u001b[1;32m    805\u001b[0m       \u001b[0;31m# In this case we have created variables on the first call, so we run the\u001b[0m\u001b[0;34m\u001b[0m\u001b[0;34m\u001b[0m\u001b[0;34m\u001b[0m\u001b[0m\n\u001b[1;32m    806\u001b[0m       \u001b[0;31m# defunned version which is guaranteed to never create variables.\u001b[0m\u001b[0;34m\u001b[0m\u001b[0;34m\u001b[0m\u001b[0;34m\u001b[0m\u001b[0m\n\u001b[0;32m--> 807\u001b[0;31m       \u001b[0;32mreturn\u001b[0m \u001b[0mself\u001b[0m\u001b[0;34m.\u001b[0m\u001b[0m_stateless_fn\u001b[0m\u001b[0;34m(\u001b[0m\u001b[0;34m*\u001b[0m\u001b[0margs\u001b[0m\u001b[0;34m,\u001b[0m \u001b[0;34m**\u001b[0m\u001b[0mkwds\u001b[0m\u001b[0;34m)\u001b[0m  \u001b[0;31m# pylint: disable=not-callable\u001b[0m\u001b[0;34m\u001b[0m\u001b[0;34m\u001b[0m\u001b[0m\n\u001b[0m\u001b[1;32m    808\u001b[0m     \u001b[0;32melif\u001b[0m \u001b[0mself\u001b[0m\u001b[0;34m.\u001b[0m\u001b[0m_stateful_fn\u001b[0m \u001b[0;32mis\u001b[0m \u001b[0;32mnot\u001b[0m \u001b[0;32mNone\u001b[0m\u001b[0;34m:\u001b[0m\u001b[0;34m\u001b[0m\u001b[0;34m\u001b[0m\u001b[0m\n\u001b[1;32m    809\u001b[0m       \u001b[0;31m# Release the lock early so that multiple threads can perform the call\u001b[0m\u001b[0;34m\u001b[0m\u001b[0;34m\u001b[0m\u001b[0;34m\u001b[0m\u001b[0m\n",
      "\u001b[0;32m~/miniconda3/envs/riid/lib/python3.7/site-packages/tensorflow/python/eager/function.py\u001b[0m in \u001b[0;36m__call__\u001b[0;34m(self, *args, **kwargs)\u001b[0m\n\u001b[1;32m   2827\u001b[0m     \u001b[0;32mwith\u001b[0m \u001b[0mself\u001b[0m\u001b[0;34m.\u001b[0m\u001b[0m_lock\u001b[0m\u001b[0;34m:\u001b[0m\u001b[0;34m\u001b[0m\u001b[0;34m\u001b[0m\u001b[0m\n\u001b[1;32m   2828\u001b[0m       \u001b[0mgraph_function\u001b[0m\u001b[0;34m,\u001b[0m \u001b[0margs\u001b[0m\u001b[0;34m,\u001b[0m \u001b[0mkwargs\u001b[0m \u001b[0;34m=\u001b[0m \u001b[0mself\u001b[0m\u001b[0;34m.\u001b[0m\u001b[0m_maybe_define_function\u001b[0m\u001b[0;34m(\u001b[0m\u001b[0margs\u001b[0m\u001b[0;34m,\u001b[0m \u001b[0mkwargs\u001b[0m\u001b[0;34m)\u001b[0m\u001b[0;34m\u001b[0m\u001b[0;34m\u001b[0m\u001b[0m\n\u001b[0;32m-> 2829\u001b[0;31m     \u001b[0;32mreturn\u001b[0m \u001b[0mgraph_function\u001b[0m\u001b[0;34m.\u001b[0m\u001b[0m_filtered_call\u001b[0m\u001b[0;34m(\u001b[0m\u001b[0margs\u001b[0m\u001b[0;34m,\u001b[0m \u001b[0mkwargs\u001b[0m\u001b[0;34m)\u001b[0m  \u001b[0;31m# pylint: disable=protected-access\u001b[0m\u001b[0;34m\u001b[0m\u001b[0;34m\u001b[0m\u001b[0m\n\u001b[0m\u001b[1;32m   2830\u001b[0m \u001b[0;34m\u001b[0m\u001b[0m\n\u001b[1;32m   2831\u001b[0m   \u001b[0;34m@\u001b[0m\u001b[0mproperty\u001b[0m\u001b[0;34m\u001b[0m\u001b[0;34m\u001b[0m\u001b[0m\n",
      "\u001b[0;32m~/miniconda3/envs/riid/lib/python3.7/site-packages/tensorflow/python/eager/function.py\u001b[0m in \u001b[0;36m_filtered_call\u001b[0;34m(self, args, kwargs, cancellation_manager)\u001b[0m\n\u001b[1;32m   1846\u001b[0m                            resource_variable_ops.BaseResourceVariable))],\n\u001b[1;32m   1847\u001b[0m         \u001b[0mcaptured_inputs\u001b[0m\u001b[0;34m=\u001b[0m\u001b[0mself\u001b[0m\u001b[0;34m.\u001b[0m\u001b[0mcaptured_inputs\u001b[0m\u001b[0;34m,\u001b[0m\u001b[0;34m\u001b[0m\u001b[0;34m\u001b[0m\u001b[0m\n\u001b[0;32m-> 1848\u001b[0;31m         cancellation_manager=cancellation_manager)\n\u001b[0m\u001b[1;32m   1849\u001b[0m \u001b[0;34m\u001b[0m\u001b[0m\n\u001b[1;32m   1850\u001b[0m   \u001b[0;32mdef\u001b[0m \u001b[0m_call_flat\u001b[0m\u001b[0;34m(\u001b[0m\u001b[0mself\u001b[0m\u001b[0;34m,\u001b[0m \u001b[0margs\u001b[0m\u001b[0;34m,\u001b[0m \u001b[0mcaptured_inputs\u001b[0m\u001b[0;34m,\u001b[0m \u001b[0mcancellation_manager\u001b[0m\u001b[0;34m=\u001b[0m\u001b[0;32mNone\u001b[0m\u001b[0;34m)\u001b[0m\u001b[0;34m:\u001b[0m\u001b[0;34m\u001b[0m\u001b[0;34m\u001b[0m\u001b[0m\n",
      "\u001b[0;32m~/miniconda3/envs/riid/lib/python3.7/site-packages/tensorflow/python/eager/function.py\u001b[0m in \u001b[0;36m_call_flat\u001b[0;34m(self, args, captured_inputs, cancellation_manager)\u001b[0m\n\u001b[1;32m   1922\u001b[0m       \u001b[0;31m# No tape is watching; skip to running the function.\u001b[0m\u001b[0;34m\u001b[0m\u001b[0;34m\u001b[0m\u001b[0;34m\u001b[0m\u001b[0m\n\u001b[1;32m   1923\u001b[0m       return self._build_call_outputs(self._inference_function.call(\n\u001b[0;32m-> 1924\u001b[0;31m           ctx, args, cancellation_manager=cancellation_manager))\n\u001b[0m\u001b[1;32m   1925\u001b[0m     forward_backward = self._select_forward_and_backward_functions(\n\u001b[1;32m   1926\u001b[0m         \u001b[0margs\u001b[0m\u001b[0;34m,\u001b[0m\u001b[0;34m\u001b[0m\u001b[0;34m\u001b[0m\u001b[0m\n",
      "\u001b[0;32m~/miniconda3/envs/riid/lib/python3.7/site-packages/tensorflow/python/eager/function.py\u001b[0m in \u001b[0;36mcall\u001b[0;34m(self, ctx, args, cancellation_manager)\u001b[0m\n\u001b[1;32m    548\u001b[0m               \u001b[0minputs\u001b[0m\u001b[0;34m=\u001b[0m\u001b[0margs\u001b[0m\u001b[0;34m,\u001b[0m\u001b[0;34m\u001b[0m\u001b[0;34m\u001b[0m\u001b[0m\n\u001b[1;32m    549\u001b[0m               \u001b[0mattrs\u001b[0m\u001b[0;34m=\u001b[0m\u001b[0mattrs\u001b[0m\u001b[0;34m,\u001b[0m\u001b[0;34m\u001b[0m\u001b[0;34m\u001b[0m\u001b[0m\n\u001b[0;32m--> 550\u001b[0;31m               ctx=ctx)\n\u001b[0m\u001b[1;32m    551\u001b[0m         \u001b[0;32melse\u001b[0m\u001b[0;34m:\u001b[0m\u001b[0;34m\u001b[0m\u001b[0;34m\u001b[0m\u001b[0m\n\u001b[1;32m    552\u001b[0m           outputs = execute.execute_with_cancellation(\n",
      "\u001b[0;32m~/miniconda3/envs/riid/lib/python3.7/site-packages/tensorflow/python/eager/execute.py\u001b[0m in \u001b[0;36mquick_execute\u001b[0;34m(op_name, num_outputs, inputs, attrs, ctx, name)\u001b[0m\n\u001b[1;32m     58\u001b[0m     \u001b[0mctx\u001b[0m\u001b[0;34m.\u001b[0m\u001b[0mensure_initialized\u001b[0m\u001b[0;34m(\u001b[0m\u001b[0;34m)\u001b[0m\u001b[0;34m\u001b[0m\u001b[0;34m\u001b[0m\u001b[0m\n\u001b[1;32m     59\u001b[0m     tensors = pywrap_tfe.TFE_Py_Execute(ctx._handle, device_name, op_name,\n\u001b[0;32m---> 60\u001b[0;31m                                         inputs, attrs, num_outputs)\n\u001b[0m\u001b[1;32m     61\u001b[0m   \u001b[0;32mexcept\u001b[0m \u001b[0mcore\u001b[0m\u001b[0;34m.\u001b[0m\u001b[0m_NotOkStatusException\u001b[0m \u001b[0;32mas\u001b[0m \u001b[0me\u001b[0m\u001b[0;34m:\u001b[0m\u001b[0;34m\u001b[0m\u001b[0;34m\u001b[0m\u001b[0m\n\u001b[1;32m     62\u001b[0m     \u001b[0;32mif\u001b[0m \u001b[0mname\u001b[0m \u001b[0;32mis\u001b[0m \u001b[0;32mnot\u001b[0m \u001b[0;32mNone\u001b[0m\u001b[0;34m:\u001b[0m\u001b[0;34m\u001b[0m\u001b[0;34m\u001b[0m\u001b[0m\n",
      "\u001b[0;31mKeyboardInterrupt\u001b[0m: "
     ]
    }
   ],
   "source": [
    "model.compile(\"adam\", \"binary_crossentropy\", metrics=[tf.keras.metrics.AUC()])\n",
    "\n",
    "history = model.fit(X_learn, y_train, epochs=25,verbose=1,validation_data=(X_test, y_val),batch_size=65536,callbacks=[es])\n",
    "#\n"
   ]
  },
  {
   "cell_type": "code",
   "execution_count": null,
   "metadata": {},
   "outputs": [],
   "source": [
    "y_pred = model.predict(X_test)\n",
    "y_true = np.array(y_val)\n",
    "roc_auc_score(y_true, y_pred)"
   ]
  }
 ],
 "metadata": {
  "kernelspec": {
   "display_name": "Python 3",
   "language": "python",
   "name": "python3"
  },
  "language_info": {
   "codemirror_mode": {
    "name": "ipython",
    "version": 3
   },
   "file_extension": ".py",
   "mimetype": "text/x-python",
   "name": "python",
   "nbconvert_exporter": "python",
   "pygments_lexer": "ipython3",
   "version": "3.8.5"
  }
 